{
 "cells": [
  {
   "cell_type": "markdown",
   "metadata": {},
   "source": [
    "# 提升法Boosting\n",
    "\n",
    "|方法|Bagging|Boosting|\n",
    "|:---:|:---:|:---|\n",
    "|弱评估器|相互独立，并行构建|相互关联，按顺序依次构建|\n",
    "|建树前的抽样方式|样本有放回抽样、特征无放回抽样|样本有放回抽样、特征无放回抽样，先建若分类起的预测效果可能影响抽样细节|\n",
    "|目标|降低方差来降低整体泛化误差|降低整体偏差|\n",
    "|集成结果|回归平均、分类众数|每个算法具有自己独特的规则：加权平均、使用输出函数|\n",
    "|代表算法|随机森林|梯度提升树，Adaboost|\n",
    "\n",
    "\n",
    "Boosting算法的基本元素：\n",
    "- 损失函数L(x,y):用于衡量模型预测结果与真实结果的差异\n",
    "- 弱评估器f(x):一般为决策树，也可以是其他\n",
    "- 综合集成结果H(x):即集成算法具体如何输出集成结果\n",
    "\n",
    "Boosting算法的基本规则：\n",
    "\n",
    "- 依据上一个弱评估器$f(x)_{x-1}$的结果，计算损失函数L(x,y)\n",
    "- 并使用L(x,y)自适应的影响下一个弱评估器$f(x)_t$的构建\n",
    "- 集成模型输出的结果，受到整体所有弱评估器$f(x)_0~f(x)_T$的影响"
   ]
  },
  {
   "cell_type": "markdown",
   "metadata": {},
   "source": [
    "# AdaBoost \n",
    "Adaptive Boosting,自适应提升法\n",
    "\n",
    "两个主要贡献：\n",
    "1. 首次实现根据之前弱评估器的结果自适应地影响后续建模过程\n",
    "2. 在Boosting算法中，首次考虑全部弱评估器结果的输出方式"
   ]
  },
  {
   "cell_type": "code",
   "execution_count": 1,
   "metadata": {},
   "outputs": [],
   "source": [
    "from sklearn.ensemble import AdaBoostClassifier as ABC\n",
    "from sklearn.ensemble import AdaBoostRegressor as ABR\n",
    "from sklearn.tree import DecisionTreeClassifier as DTC\n",
    "from sklearn.tree import DecisionTreeRegressor as DTR\n",
    "from sklearn.datasets import load_digits"
   ]
  },
  {
   "cell_type": "code",
   "execution_count": 2,
   "metadata": {},
   "outputs": [],
   "source": [
    "# 用于分类的数据(手写数字识别)\n",
    "data_c = load_digits()\n",
    "x_c = data_c.data\n",
    "y_c = data_c.target"
   ]
  },
  {
   "cell_type": "code",
   "execution_count": 3,
   "metadata": {},
   "outputs": [
    {
     "data": {
      "text/plain": [
       "(1797, 64)"
      ]
     },
     "execution_count": 3,
     "metadata": {},
     "output_type": "execute_result"
    }
   ],
   "source": [
    "x_c.shape"
   ]
  },
  {
   "cell_type": "code",
   "execution_count": 4,
   "metadata": {},
   "outputs": [
    {
     "data": {
      "text/plain": [
       "array([[ 0.,  0.,  5., ...,  0.,  0.,  0.],\n",
       "       [ 0.,  0.,  0., ..., 10.,  0.,  0.],\n",
       "       [ 0.,  0.,  0., ..., 16.,  9.,  0.],\n",
       "       ...,\n",
       "       [ 0.,  0.,  1., ...,  6.,  0.,  0.],\n",
       "       [ 0.,  0.,  2., ..., 12.,  0.,  0.],\n",
       "       [ 0.,  0., 10., ..., 12.,  1.,  0.]])"
      ]
     },
     "execution_count": 4,
     "metadata": {},
     "output_type": "execute_result"
    }
   ],
   "source": [
    "x_c"
   ]
  },
  {
   "cell_type": "code",
   "execution_count": 6,
   "metadata": {},
   "outputs": [
    {
     "data": {
      "text/plain": [
       "array([0, 1, 2, 3, 4, 5, 6, 7, 8, 9])"
      ]
     },
     "execution_count": 6,
     "metadata": {},
     "output_type": "execute_result"
    }
   ],
   "source": [
    "import numpy as np\n",
    "np.unique(y_c)"
   ]
  },
  {
   "cell_type": "code",
   "execution_count": 8,
   "metadata": {},
   "outputs": [],
   "source": [
    "import pandas as pd\n",
    "# 用于回归的数据\n",
    "data_r = pd.read_csv(r\"/Users/feishuoren/Projects/machine_learning/datasets/HousePrice/train_encode.csv\",index_col=0)\n",
    "x_g = data_r.iloc[:,:-1]\n",
    "y_g = data_r.iloc[:,-1]"
   ]
  },
  {
   "cell_type": "code",
   "execution_count": 9,
   "metadata": {},
   "outputs": [
    {
     "data": {
      "text/plain": [
       "(1460, 80)"
      ]
     },
     "execution_count": 9,
     "metadata": {},
     "output_type": "execute_result"
    }
   ],
   "source": [
    "x_g.shape"
   ]
  },
  {
   "cell_type": "code",
   "execution_count": 10,
   "metadata": {},
   "outputs": [
    {
     "data": {
      "text/html": [
       "<div>\n",
       "<style scoped>\n",
       "    .dataframe tbody tr th:only-of-type {\n",
       "        vertical-align: middle;\n",
       "    }\n",
       "\n",
       "    .dataframe tbody tr th {\n",
       "        vertical-align: top;\n",
       "    }\n",
       "\n",
       "    .dataframe thead th {\n",
       "        text-align: right;\n",
       "    }\n",
       "</style>\n",
       "<table border=\"1\" class=\"dataframe\">\n",
       "  <thead>\n",
       "    <tr style=\"text-align: right;\">\n",
       "      <th></th>\n",
       "      <th>Id</th>\n",
       "      <th>住宅类型</th>\n",
       "      <th>住宅区域</th>\n",
       "      <th>街道接触面积(英尺)</th>\n",
       "      <th>住宅面积</th>\n",
       "      <th>街道路面状况</th>\n",
       "      <th>巷子路面状况</th>\n",
       "      <th>住宅形状(大概)</th>\n",
       "      <th>住宅现状</th>\n",
       "      <th>水电气</th>\n",
       "      <th>...</th>\n",
       "      <th>半开放式门廊面积</th>\n",
       "      <th>泳池面积</th>\n",
       "      <th>泳池质量</th>\n",
       "      <th>篱笆质量</th>\n",
       "      <th>其他配置</th>\n",
       "      <th>其他配置的价值</th>\n",
       "      <th>销售月份</th>\n",
       "      <th>销售年份</th>\n",
       "      <th>销售类型</th>\n",
       "      <th>销售状态</th>\n",
       "    </tr>\n",
       "  </thead>\n",
       "  <tbody>\n",
       "    <tr>\n",
       "      <th>0</th>\n",
       "      <td>0.0</td>\n",
       "      <td>5.0</td>\n",
       "      <td>3.0</td>\n",
       "      <td>36.0</td>\n",
       "      <td>327.0</td>\n",
       "      <td>1.0</td>\n",
       "      <td>0.0</td>\n",
       "      <td>3.0</td>\n",
       "      <td>3.0</td>\n",
       "      <td>0.0</td>\n",
       "      <td>...</td>\n",
       "      <td>0.0</td>\n",
       "      <td>0.0</td>\n",
       "      <td>0.0</td>\n",
       "      <td>0.0</td>\n",
       "      <td>0.0</td>\n",
       "      <td>0.0</td>\n",
       "      <td>1.0</td>\n",
       "      <td>2.0</td>\n",
       "      <td>8.0</td>\n",
       "      <td>4.0</td>\n",
       "    </tr>\n",
       "    <tr>\n",
       "      <th>1</th>\n",
       "      <td>1.0</td>\n",
       "      <td>0.0</td>\n",
       "      <td>3.0</td>\n",
       "      <td>51.0</td>\n",
       "      <td>498.0</td>\n",
       "      <td>1.0</td>\n",
       "      <td>0.0</td>\n",
       "      <td>3.0</td>\n",
       "      <td>3.0</td>\n",
       "      <td>0.0</td>\n",
       "      <td>...</td>\n",
       "      <td>0.0</td>\n",
       "      <td>0.0</td>\n",
       "      <td>0.0</td>\n",
       "      <td>0.0</td>\n",
       "      <td>0.0</td>\n",
       "      <td>0.0</td>\n",
       "      <td>4.0</td>\n",
       "      <td>1.0</td>\n",
       "      <td>8.0</td>\n",
       "      <td>4.0</td>\n",
       "    </tr>\n",
       "    <tr>\n",
       "      <th>2</th>\n",
       "      <td>2.0</td>\n",
       "      <td>5.0</td>\n",
       "      <td>3.0</td>\n",
       "      <td>39.0</td>\n",
       "      <td>702.0</td>\n",
       "      <td>1.0</td>\n",
       "      <td>0.0</td>\n",
       "      <td>0.0</td>\n",
       "      <td>3.0</td>\n",
       "      <td>0.0</td>\n",
       "      <td>...</td>\n",
       "      <td>0.0</td>\n",
       "      <td>0.0</td>\n",
       "      <td>0.0</td>\n",
       "      <td>0.0</td>\n",
       "      <td>0.0</td>\n",
       "      <td>0.0</td>\n",
       "      <td>8.0</td>\n",
       "      <td>2.0</td>\n",
       "      <td>8.0</td>\n",
       "      <td>4.0</td>\n",
       "    </tr>\n",
       "    <tr>\n",
       "      <th>3</th>\n",
       "      <td>3.0</td>\n",
       "      <td>6.0</td>\n",
       "      <td>3.0</td>\n",
       "      <td>31.0</td>\n",
       "      <td>489.0</td>\n",
       "      <td>1.0</td>\n",
       "      <td>0.0</td>\n",
       "      <td>0.0</td>\n",
       "      <td>3.0</td>\n",
       "      <td>0.0</td>\n",
       "      <td>...</td>\n",
       "      <td>0.0</td>\n",
       "      <td>0.0</td>\n",
       "      <td>0.0</td>\n",
       "      <td>0.0</td>\n",
       "      <td>0.0</td>\n",
       "      <td>0.0</td>\n",
       "      <td>1.0</td>\n",
       "      <td>0.0</td>\n",
       "      <td>8.0</td>\n",
       "      <td>0.0</td>\n",
       "    </tr>\n",
       "    <tr>\n",
       "      <th>4</th>\n",
       "      <td>4.0</td>\n",
       "      <td>5.0</td>\n",
       "      <td>3.0</td>\n",
       "      <td>55.0</td>\n",
       "      <td>925.0</td>\n",
       "      <td>1.0</td>\n",
       "      <td>0.0</td>\n",
       "      <td>0.0</td>\n",
       "      <td>3.0</td>\n",
       "      <td>0.0</td>\n",
       "      <td>...</td>\n",
       "      <td>0.0</td>\n",
       "      <td>0.0</td>\n",
       "      <td>0.0</td>\n",
       "      <td>0.0</td>\n",
       "      <td>0.0</td>\n",
       "      <td>0.0</td>\n",
       "      <td>11.0</td>\n",
       "      <td>2.0</td>\n",
       "      <td>8.0</td>\n",
       "      <td>4.0</td>\n",
       "    </tr>\n",
       "  </tbody>\n",
       "</table>\n",
       "<p>5 rows × 80 columns</p>\n",
       "</div>"
      ],
      "text/plain": [
       "    Id  住宅类型  住宅区域  街道接触面积(英尺)   住宅面积  街道路面状况  巷子路面状况  住宅形状(大概)  住宅现状  水电气  \\\n",
       "0  0.0   5.0   3.0        36.0  327.0     1.0     0.0       3.0   3.0  0.0   \n",
       "1  1.0   0.0   3.0        51.0  498.0     1.0     0.0       3.0   3.0  0.0   \n",
       "2  2.0   5.0   3.0        39.0  702.0     1.0     0.0       0.0   3.0  0.0   \n",
       "3  3.0   6.0   3.0        31.0  489.0     1.0     0.0       0.0   3.0  0.0   \n",
       "4  4.0   5.0   3.0        55.0  925.0     1.0     0.0       0.0   3.0  0.0   \n",
       "\n",
       "   ...  半开放式门廊面积  泳池面积  泳池质量  篱笆质量  其他配置  其他配置的价值  销售月份  销售年份  销售类型  销售状态  \n",
       "0  ...       0.0   0.0   0.0   0.0   0.0      0.0   1.0   2.0   8.0   4.0  \n",
       "1  ...       0.0   0.0   0.0   0.0   0.0      0.0   4.0   1.0   8.0   4.0  \n",
       "2  ...       0.0   0.0   0.0   0.0   0.0      0.0   8.0   2.0   8.0   4.0  \n",
       "3  ...       0.0   0.0   0.0   0.0   0.0      0.0   1.0   0.0   8.0   0.0  \n",
       "4  ...       0.0   0.0   0.0   0.0   0.0      0.0  11.0   2.0   8.0   4.0  \n",
       "\n",
       "[5 rows x 80 columns]"
      ]
     },
     "execution_count": 10,
     "metadata": {},
     "output_type": "execute_result"
    }
   ],
   "source": [
    "x_g.head()"
   ]
  },
  {
   "cell_type": "markdown",
   "metadata": {},
   "source": [
    "- ADB 分类器的默认弱评估器是最大深度为1的“树桩”\n",
    "- ADB 回归器的默认评估器是最大深度为3的“树苗”\n",
    "\n",
    "回归相比较分类任务更复杂一些，所以深度更深"
   ]
  },
  {
   "cell_type": "code",
   "execution_count": 11,
   "metadata": {},
   "outputs": [],
   "source": [
    "# 建立集成算法，调用其中的弱评估器"
   ]
  },
  {
   "cell_type": "code",
   "execution_count": 12,
   "metadata": {},
   "outputs": [],
   "source": [
    "# 建立ADB回归器和分类器\n",
    "clf = ABC(n_estimators=3).fit(x_c,y_c)\n",
    "reg = ABR(n_estimators=3).fit(x_g,y_g)"
   ]
  },
  {
   "cell_type": "code",
   "execution_count": 13,
   "metadata": {},
   "outputs": [
    {
     "data": {
      "text/plain": [
       "DecisionTreeClassifier(max_depth=1)"
      ]
     },
     "execution_count": 13,
     "metadata": {},
     "output_type": "execute_result"
    }
   ],
   "source": [
    "clf.base_estimator_ # 弱评估器是分类树，这与XGBoot等都不同，他们的一律是回归树"
   ]
  },
  {
   "cell_type": "code",
   "execution_count": 14,
   "metadata": {},
   "outputs": [
    {
     "data": {
      "text/plain": [
       "DecisionTreeRegressor(max_depth=3)"
      ]
     },
     "execution_count": 14,
     "metadata": {},
     "output_type": "execute_result"
    }
   ],
   "source": [
    "reg.base_estimator_ # ，弱评估器是回归树，可以看到最大深度"
   ]
  },
  {
   "cell_type": "code",
   "execution_count": 15,
   "metadata": {},
   "outputs": [
    {
     "data": {
      "text/plain": [
       "[DecisionTreeRegressor(max_depth=3, random_state=411559624),\n",
       " DecisionTreeRegressor(max_depth=3, random_state=1861388553),\n",
       " DecisionTreeRegressor(max_depth=3, random_state=185632829)]"
      ]
     },
     "execution_count": 15,
     "metadata": {},
     "output_type": "execute_result"
    }
   ],
   "source": [
    "reg.estimators_ # 可以看到当前集成算法的所有弱评估器"
   ]
  },
  {
   "cell_type": "code",
   "execution_count": 16,
   "metadata": {},
   "outputs": [],
   "source": [
    "# 自建弱评估器"
   ]
  },
  {
   "cell_type": "code",
   "execution_count": 17,
   "metadata": {},
   "outputs": [],
   "source": [
    "base_estimator = DTC(max_depth = 10,max_features = 30)"
   ]
  },
  {
   "cell_type": "code",
   "execution_count": 18,
   "metadata": {},
   "outputs": [],
   "source": [
    "clf = ABC(base_estimator = base_estimator,n_estimators=3).fit(x_c,y_c)"
   ]
  },
  {
   "cell_type": "code",
   "execution_count": 19,
   "metadata": {},
   "outputs": [
    {
     "data": {
      "text/plain": [
       "DecisionTreeClassifier(max_depth=10, max_features=30)"
      ]
     },
     "execution_count": 19,
     "metadata": {},
     "output_type": "execute_result"
    }
   ],
   "source": [
    "clf.base_estimator_"
   ]
  },
  {
   "cell_type": "code",
   "execution_count": 20,
   "metadata": {},
   "outputs": [
    {
     "data": {
      "text/plain": [
       "[DecisionTreeClassifier(max_depth=10, max_features=30, random_state=128782249),\n",
       " DecisionTreeClassifier(max_depth=10, max_features=30, random_state=49957339),\n",
       " DecisionTreeClassifier(max_depth=10, max_features=30, random_state=1423281246)]"
      ]
     },
     "execution_count": 20,
     "metadata": {},
     "output_type": "execute_result"
    }
   ],
   "source": [
    "clf.estimators_"
   ]
  },
  {
   "cell_type": "code",
   "execution_count": 21,
   "metadata": {},
   "outputs": [],
   "source": [
    "# 不能自己输入random_state,输入了也忽略"
   ]
  },
  {
   "cell_type": "markdown",
   "metadata": {},
   "source": [
    "$H_t(x_i) = H_{t-1}(x_i) + \\eta \\phi_tf_i(x_i)$"
   ]
  },
  {
   "cell_type": "markdown",
   "metadata": {},
   "source": [
    "独有的损失函数：指数损失\n",
    "- 二分类指数损失\n",
    "$$L(H(x),y) = e^{-yH^*(x)}$$\n",
    "\n",
    "其中：\n",
    "$$H^*(x) = \\begin{array}{cl}\n",
    " 1 & if H(x)>0.5\\\\\n",
    "-1 & if H(x)<0.5\\\\\n",
    "\\end{array}$$\n",
    "\n",
    "- 多分类指数损失\n",
    "$$L(H(x),y) = exp(-\\frac{1}{k}y^*·H^*(x))\\\\\n",
    " = exp(-\\frac{1}{K}(y^{*1}H^{*1}(x)+y^{*2}H^{*2}(x)+...+y^{*k}H^{*k}(x)))\n",
    "$$\n",
    "\n",
    "\n",
    "其中：\n",
    "$$H^*(x) = \\begin{array}{cl}\n",
    " 1 & if K=argmaxH(x)\\\\\n",
    "-\\frac{1}{K-1} & if K \\neq argmaxH(x)\\\\\n",
    "\\end{array}$$\n",
    "\n",
    "$$y^* = \\begin{array}{cl}\n",
    " 1 & if k=y_i\\\\\n",
    "-\\frac{1}{K-1} & if k \\neq y_i\\\\\n",
    "\\end{array}$$"
   ]
  },
  {
   "cell_type": "code",
   "execution_count": 24,
   "metadata": {},
   "outputs": [
    {
     "data": {
      "text/html": [
       "<div>\n",
       "<style scoped>\n",
       "    .dataframe tbody tr th:only-of-type {\n",
       "        vertical-align: middle;\n",
       "    }\n",
       "\n",
       "    .dataframe tbody tr th {\n",
       "        vertical-align: top;\n",
       "    }\n",
       "\n",
       "    .dataframe thead th {\n",
       "        text-align: right;\n",
       "    }\n",
       "</style>\n",
       "<table border=\"1\" class=\"dataframe\">\n",
       "  <thead>\n",
       "    <tr style=\"text-align: right;\">\n",
       "      <th></th>\n",
       "      <th>0</th>\n",
       "      <th>1</th>\n",
       "      <th>2</th>\n",
       "      <th>3</th>\n",
       "      <th>4</th>\n",
       "      <th>5</th>\n",
       "      <th>6</th>\n",
       "      <th>7</th>\n",
       "      <th>8</th>\n",
       "      <th>9</th>\n",
       "    </tr>\n",
       "  </thead>\n",
       "  <tbody>\n",
       "    <tr>\n",
       "      <th>0</th>\n",
       "      <td>0.909574</td>\n",
       "      <td>0.000000</td>\n",
       "      <td>0.010638</td>\n",
       "      <td>0.000000</td>\n",
       "      <td>0.031915</td>\n",
       "      <td>0.031915</td>\n",
       "      <td>0.015957</td>\n",
       "      <td>0.000000</td>\n",
       "      <td>0.000000</td>\n",
       "      <td>0.000000</td>\n",
       "    </tr>\n",
       "    <tr>\n",
       "      <th>1</th>\n",
       "      <td>0.003781</td>\n",
       "      <td>0.131380</td>\n",
       "      <td>0.120038</td>\n",
       "      <td>0.157845</td>\n",
       "      <td>0.134216</td>\n",
       "      <td>0.011342</td>\n",
       "      <td>0.003781</td>\n",
       "      <td>0.163516</td>\n",
       "      <td>0.158790</td>\n",
       "      <td>0.115312</td>\n",
       "    </tr>\n",
       "    <tr>\n",
       "      <th>2</th>\n",
       "      <td>0.003781</td>\n",
       "      <td>0.131380</td>\n",
       "      <td>0.120038</td>\n",
       "      <td>0.157845</td>\n",
       "      <td>0.134216</td>\n",
       "      <td>0.011342</td>\n",
       "      <td>0.003781</td>\n",
       "      <td>0.163516</td>\n",
       "      <td>0.158790</td>\n",
       "      <td>0.115312</td>\n",
       "    </tr>\n",
       "    <tr>\n",
       "      <th>3</th>\n",
       "      <td>0.000000</td>\n",
       "      <td>0.092672</td>\n",
       "      <td>0.099138</td>\n",
       "      <td>0.032328</td>\n",
       "      <td>0.071121</td>\n",
       "      <td>0.312500</td>\n",
       "      <td>0.370690</td>\n",
       "      <td>0.012931</td>\n",
       "      <td>0.006466</td>\n",
       "      <td>0.002155</td>\n",
       "    </tr>\n",
       "    <tr>\n",
       "      <th>4</th>\n",
       "      <td>0.909574</td>\n",
       "      <td>0.000000</td>\n",
       "      <td>0.010638</td>\n",
       "      <td>0.000000</td>\n",
       "      <td>0.031915</td>\n",
       "      <td>0.031915</td>\n",
       "      <td>0.015957</td>\n",
       "      <td>0.000000</td>\n",
       "      <td>0.000000</td>\n",
       "      <td>0.000000</td>\n",
       "    </tr>\n",
       "  </tbody>\n",
       "</table>\n",
       "</div>"
      ],
      "text/plain": [
       "          0         1         2         3         4         5         6  \\\n",
       "0  0.909574  0.000000  0.010638  0.000000  0.031915  0.031915  0.015957   \n",
       "1  0.003781  0.131380  0.120038  0.157845  0.134216  0.011342  0.003781   \n",
       "2  0.003781  0.131380  0.120038  0.157845  0.134216  0.011342  0.003781   \n",
       "3  0.000000  0.092672  0.099138  0.032328  0.071121  0.312500  0.370690   \n",
       "4  0.909574  0.000000  0.010638  0.000000  0.031915  0.031915  0.015957   \n",
       "\n",
       "          7         8         9  \n",
       "0  0.000000  0.000000  0.000000  \n",
       "1  0.163516  0.158790  0.115312  \n",
       "2  0.163516  0.158790  0.115312  \n",
       "3  0.012931  0.006466  0.002155  \n",
       "4  0.000000  0.000000  0.000000  "
      ]
     },
     "execution_count": 24,
     "metadata": {},
     "output_type": "execute_result"
    }
   ],
   "source": [
    "# 多分类预测\n",
    "clf = DTC(max_depth=2).fit(x_c,y_c)\n",
    "\n",
    "# 多分类预测输出的概率结果，取前5个样本\n",
    "pd.DataFrame(clf.predict_proba(x_c)).iloc[:5,:]"
   ]
  },
  {
   "cell_type": "code",
   "execution_count": 26,
   "metadata": {},
   "outputs": [
    {
     "data": {
      "text/plain": [
       "0"
      ]
     },
     "execution_count": 26,
     "metadata": {},
     "output_type": "execute_result"
    }
   ],
   "source": [
    "# argmax函数可以拿到最大值对应的索引\n",
    "np.argmax(pd.DataFrame(clf.predict_proba(x_c)).iloc[0,:])"
   ]
  },
  {
   "cell_type": "markdown",
   "metadata": {},
   "source": [
    "AdaBoost回归中，唯一能使用的算法是 AdaBoost.R2\n",
    "\n",
    "R2 算法中，可以选择三种损失函数:\n",
    "- linear（线性）\n",
    "    $$ Li = \\frac{|H(x_i)-y_i|}{D}$$\n",
    "- square（平方）\n",
    "    $$ Li = \\frac{|H(x_i)-y_i|^2}{D^2}$$\n",
    "- exponential （指数）\n",
    "    $$ Li = 1 - exp(\\frac{-|H(x_i)-y_i|}{D})$$\n",
    "    \n",
    "其中：\n",
    "$$D = sup|H(x_i)-y_i|,i=1,2,...,N$$\n",
    "\n",
    "sup表示“取最大值”,D为样本中真实值与预测值差距最大的那组差异\n",
    "\n",
    "\n",
    "任何损失函数`值域为[0,1]` 可以变为使用 R2算法的损失函数"
   ]
  },
  {
   "cell_type": "markdown",
   "metadata": {},
   "source": [
    "## AdaBoost 的求解流程\n",
    "对于任意Boosting算法，都需要明确以下几点：\n",
    "- 损失函数的表达式是什么？对视函数如何影响模型构建？\n",
    "- 弱评估器是什么？当下boosting算法使用的具体建树过程是什么？\n",
    "- 综合集成结果是什么？集成算法具体如何输出集成结果？\n",
    "\n",
    "其他问题：\n",
    "- 是加权求和吗？权重如何求解？\n",
    "- 训练过程中，拟合的数据X和y分别是什么？\n",
    "- 模型训练到什么时候停下来最好？"
   ]
  },
  {
   "cell_type": "markdown",
   "metadata": {},
   "source": [
    "## 基本流程\n",
    "1. 初始化原始数据集的权重 wi,其中任意 $w_i = \\frac{1}{M}$\n",
    "\n",
    "开始循环 T 轮：\n",
    "\n",
    "2. 在数据集N中，有放回的抽样M个样本，构成训练集 $N^t$。在每次抽取一个样本时，任意样本被抽中的概率为$P_i^t = \\frac{w_i}{\\sum{w_i}}$，该概率就是当前样本在训练集中的权重。第一次循环中 概率$P_i^1 = \\frac{1}{M}$，当后续权重变化时，拥有更大权重的样本被抽中的概率会更大\n",
    "3. 在训练集上按照CART树规则建立一颗回归树，训练时所拟合的标签为样本的真实标签 $y_i^t$\n",
    "4. 将训练集上所有的样本输入$f^t$进行预测，得出预测结果$f^t(x_i)$，其中i =1,2,..,N\n",
    "5. 计算单一样本i上的损失函数$L_i^t = L(f^t(x_i),y_i)$，计算过程如下：\n",
    "    - 求解D\n",
    "    - 选择损失函数类型，计算损失$L_i^t$\n",
    "6. 计算全样本上的加权平均损失 \n",
    ">$\\bar{L}^t = \\sum_{i=1}^{M}L_i^tP_i^t$\n",
    "7. 依据加权平均损失$\\bar{L}^t$计算衡量当前集成算法的置信度$\\beta^t$\n",
    "    - $\\beta^t = \\frac{\\bar{L}^t}{1-\\bar{L}^t+\\lambda}$，其中$\\lambda$是为了防止分母为0的常数\n",
    "    - $\\bar{L}^t$的实际范围大致在0.2～0.3之间，因此$\\beta^t$一般小于1\n",
    "8. 依据置信度评估$\\beta^t$跟新样本权重\n",
    ">$w_i = w_i\\beta^{(1-L_i)}$\n",
    "9. 求解迭代过程中弱分类器$f^t$所需的权重\n",
    ">$\\phi^t = log(\\frac{1}{\\beta^t})$\n",
    "10. 求解出当前迭代t下集成算法的输出值\n",
    "> $H^t(x_i) = H^{t-1}(x_i)+\\eta\\phi^tf^t(x_i)$\n",
    "\n",
    "\n",
    "### 迭代停止条件\n",
    "迭代次数T应该满足一下条件：\n",
    "$$(\\sum\\limits_{t:H^t(x)\\leq y}log\\frac{1}{\\beta^t})\\geq (\\frac{1}{2}\\sum\\limits^T_{t=1}log\\frac{1}{\\beta^t})$$\n",
    "等同于：\n",
    "$$(\\sum\\limits_{t:H^t(x)\\leq y}\\phi^t)\\geq (\\frac{1}{2}\\sum\\limits^T_{t=1}\\phi^t)$$\n",
    "\n",
    "算法输出值等于`上述条件相等`时 对应的 $H^t(x)$"
   ]
  },
  {
   "cell_type": "code",
   "execution_count": 27,
   "metadata": {},
   "outputs": [],
   "source": [
    "yi = 20\n",
    "lambda_ = 1e-6"
   ]
  },
  {
   "cell_type": "code",
   "execution_count": 28,
   "metadata": {},
   "outputs": [],
   "source": [
    "Hx = np.linspace(1,25,1000,endpoint=False) # 逐渐增大的Hx\n",
    "# 原则上应使用fx计算损失，并且在迭代过程中逐渐计算出权重\n",
    "# 但由于计算过程略微复杂，因此这里简化直接使用Hx计算损失、beta和权重\n",
    "# 这种方法得出的曲线不是最严谨的，但趋势yufx严谨计算的趋势一致\n",
    "# 因为原则上来说，只要一个样本被AdaBoost分类正确，这个样本上的损失应该也是越来越小的\n",
    "D = np.max(abs(Hx - yi))\n",
    "L = abs(Hx - yi)/D\n",
    "beta = L/(1-L+lambda_)"
   ]
  },
  {
   "cell_type": "code",
   "execution_count": 29,
   "metadata": {},
   "outputs": [],
   "source": [
    "part1 = 0 # 用于计算每一轮迭代后的累加值\n",
    "part1_ = [] # 用于保存每一轮迭代后的累加值\n",
    "part2 = 0\n",
    "part2_ = []\n",
    "\n",
    "for t,beta_t in enumerate(beta):\n",
    "    phi = np.log(1/beta_t)\n",
    "    # 如果Hx小于真实标签yi，则取倒数取对数后放入part1内\n",
    "    if Hx[t] <= yi:\n",
    "        part1 += phi\n",
    "    part1_.append(part1)\n",
    "    # 所有beta取倒数取对数 * 0.5后都放入part2内\n",
    "    part2 += 0.5*phi\n",
    "    part2_.append(part2)"
   ]
  },
  {
   "cell_type": "code",
   "execution_count": 30,
   "metadata": {},
   "outputs": [
    {
     "data": {
      "text/plain": [
       "<matplotlib.legend.Legend at 0x7faefd1d6490>"
      ]
     },
     "execution_count": 30,
     "metadata": {},
     "output_type": "execute_result"
    },
    {
     "data": {
      "image/png": "[encoded data removed]",
      "text/plain": [
       "<Figure size 432x288 with 1 Axes>"
      ]
     },
     "metadata": {
      "needs_background": "light"
     },
     "output_type": "display_data"
    }
   ],
   "source": [
    "import matplotlib.pyplot as plt\n",
    "plt.plot(range(len(part1_)),part1_,c=\"red\",label=\"h < yt\")\n",
    "plt.plot(range(1000),part2_,c=\"blue\",label=\"all t\")\n",
    "plt.legend()"
   ]
  },
  {
   "cell_type": "code",
   "execution_count": 31,
   "metadata": {},
   "outputs": [
    {
     "data": {
      "text/plain": [
       "19.96"
      ]
     },
     "execution_count": 31,
     "metadata": {},
     "output_type": "execute_result"
    }
   ],
   "source": [
    "# 最佳输出值\n",
    "Hx[790]"
   ]
  }
 ],
 "metadata": {
  "kernelspec": {
   "display_name": "Python 3",
   "language": "python",
   "name": "python3"
  },
  "language_info": {
   "codemirror_mode": {
    "name": "ipython",
    "version": 3
   },
   "file_extension": ".py",
   "mimetype": "text/x-python",
   "name": "python",
   "nbconvert_exporter": "python",
   "pygments_lexer": "ipython3",
   "version": "3.8.3"
  }
 },
 "nbformat": 4,
 "nbformat_minor": 4
}
