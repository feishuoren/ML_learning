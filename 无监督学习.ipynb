{
 "cells": [
  {
   "cell_type": "markdown",
   "metadata": {},
   "source": [
    "典型无监督学习算法：\n",
    " - 聚类算法\n",
    "    - K-means快速聚类\n",
    "    - 小批量快速聚类（Mini Batch K-means）\n",
    "    - BDSCAN基于密度的聚类\n",
    " - 关联规则算法"
   ]
  },
  {
   "cell_type": "markdown",
   "metadata": {},
   "source": [
    "# K-Means\n",
    "对数据集进行指定类别数量分群的聚类算法，也是目前常用的一类聚类算法\n",
    "\n",
    "基本流程：\n",
    "- 创建初始中心点\n",
    "- 依据中心点，对数据进行类别划分\n",
    "\n",
    "迭代：\n",
    "1. 确定中心点，第一轮随机生成，其他通过质心计算得到\n",
    "2. 根据中心点，计算每个点到中心点的距离\n",
    "3. 根据距离计算结果，对数据集进行划分\n",
    "\n",
    "迭代停止条件（两个等价条件）：\n",
    "1. 相邻两次迭代过程中质心位置不发生变化\n",
    "2. 相邻两次迭代过程中各点所属类别不发生变化\n",
    "\n",
    "迭代停止相当于模型收敛了"
   ]
  },
  {
   "cell_type": "code",
   "execution_count": 1,
   "metadata": {},
   "outputs": [],
   "source": [
    "from ML_basic_function import *\n",
    "import numpy as np"
   ]
  },
  {
   "cell_type": "code",
   "execution_count": 2,
   "metadata": {},
   "outputs": [],
   "source": [
    "np.random.seed(23)\n",
    "X,y = arrayGenCla(num_examples=20,num_inputs=2,num_class=2,deg_dispersion=[2,0.5])"
   ]
  },
  {
   "cell_type": "code",
   "execution_count": 3,
   "metadata": {},
   "outputs": [
    {
     "data": {
      "text/plain": [
       "<matplotlib.collections.PathCollection at 0x7fa37ace1730>"
      ]
     },
     "execution_count": 3,
     "metadata": {},
     "output_type": "execute_result"
    },
    {
     "data": {
      "image/png": "[encoded data removed]",
      "text/plain": [
       "<Figure size 432x288 with 1 Axes>"
      ]
     },
     "metadata": {
      "needs_background": "light"
     },
     "output_type": "display_data"
    }
   ],
   "source": [
    "plt.scatter(X[:,0],X[:,1],c=y)"
   ]
  },
  {
   "cell_type": "code",
   "execution_count": 4,
   "metadata": {},
   "outputs": [
    {
     "data": {
      "text/plain": [
       "array([[ 0.66698806,  0.02581308],\n",
       "       [-0.77761941,  0.94863382]])"
      ]
     },
     "execution_count": 4,
     "metadata": {},
     "output_type": "execute_result"
    }
   ],
   "source": [
    "np.random.seed(23)\n",
    "center = np.random.randn(2,2)\n",
    "center"
   ]
  },
  {
   "cell_type": "code",
   "execution_count": 5,
   "metadata": {},
   "outputs": [
    {
     "data": {
      "text/plain": [
       "[<matplotlib.lines.Line2D at 0x7fa37ae31310>]"
      ]
     },
     "execution_count": 5,
     "metadata": {},
     "output_type": "execute_result"
    },
    {
     "data": {
      "image/png": "[encoded data removed]",
      "text/plain": [
       "<Figure size 432x288 with 1 Axes>"
      ]
     },
     "metadata": {
      "needs_background": "light"
     },
     "output_type": "display_data"
    }
   ],
   "source": [
    "plt.scatter(X[:,0],X[:,1])\n",
    "plt.plot(center[0,0],center[0,1],'o',c='red') # 令第一个点为红色\n",
    "plt.plot(center[1,0],center[1,1],'o',c='cyan') # 令第一个点为蓝色"
   ]
  },
  {
   "cell_type": "code",
   "execution_count": 6,
   "metadata": {},
   "outputs": [
    {
     "data": {
      "text/plain": [
       "array([2.80418598, 4.53045247, 4.13895531, 5.96788755, 5.43938343,\n",
       "       3.865367  , 3.25889336, 7.13376456, 2.30412925, 8.92312473,\n",
       "       3.37863704, 2.33823889, 4.64766873, 3.16445859, 5.17815242,\n",
       "       1.55545174, 1.69836706, 5.6316741 , 9.43394061, 2.93573695,\n",
       "       2.1952354 , 1.68759248, 0.99370862, 1.5880287 , 0.50250126,\n",
       "       1.21754799, 1.4285248 , 0.052919  , 0.64128333, 2.52979672,\n",
       "       0.53203112, 1.17477822, 2.55720201, 7.04514128, 1.0019926 ,\n",
       "       2.98793165, 3.17855917, 0.55893052, 1.00322863, 0.55888205])"
      ]
     },
     "execution_count": 6,
     "metadata": {},
     "output_type": "execute_result"
    }
   ],
   "source": [
    "# 计算每条样本距离红色中心点距离\n",
    "np.power((X - center[0]), 2).sum(1)"
   ]
  },
  {
   "cell_type": "code",
   "execution_count": 7,
   "metadata": {},
   "outputs": [
    {
     "data": {
      "text/plain": [
       "array([ True, False,  True,  True, False, False,  True, False, False,\n",
       "       False, False,  True,  True, False,  True,  True, False, False,\n",
       "       False,  True,  True,  True,  True,  True,  True,  True,  True,\n",
       "        True,  True,  True,  True,  True,  True,  True,  True,  True,\n",
       "        True,  True,  True,  True])"
      ]
     },
     "execution_count": 7,
     "metadata": {},
     "output_type": "execute_result"
    }
   ],
   "source": [
    "# 对比距离中心点远近情况\n",
    "res_bool = np.power((X - center[0]),2).sum(1) < np.power((X - center[1]),2).sum(1)\n",
    "res_bool"
   ]
  },
  {
   "cell_type": "code",
   "execution_count": 8,
   "metadata": {},
   "outputs": [
    {
     "data": {
      "text/plain": [
       "array([1, 0, 1, 1, 0, 0, 1, 0, 0, 0, 0, 1, 1, 0, 1, 1, 0, 0, 0, 1, 1, 1,\n",
       "       1, 1, 1, 1, 1, 1, 1, 1, 1, 1, 1, 1, 1, 1, 1, 1, 1, 1])"
      ]
     },
     "execution_count": 8,
     "metadata": {},
     "output_type": "execute_result"
    }
   ],
   "source": [
    "res = res_bool*1\n",
    "res\n",
    "# 1 代表该样本距离红色中心点更近，应该属于红色点\n",
    "# 0 代表该样本距离蓝色中心点更近，应该属于蓝色点"
   ]
  },
  {
   "cell_type": "code",
   "execution_count": 9,
   "metadata": {},
   "outputs": [
    {
     "data": {
      "text/plain": [
       "array([[-0.66650597, -0.98709346],\n",
       "       [-0.6491641 , -1.52554078],\n",
       "       [-1.18377406, -1.56872985],\n",
       "       [-0.83886424, -0.96982853],\n",
       "       [-0.73091902, -0.59394067],\n",
       "       [-0.87944685, -1.47625477],\n",
       "       [-0.91318318, -1.61162739],\n",
       "       [-0.29234001, -0.77114451],\n",
       "       [-0.69690225, -1.01126945],\n",
       "       [ 1.00671113,  1.46797245],\n",
       "       [ 1.21031133,  1.20580982],\n",
       "       [ 0.96433804,  0.97728121],\n",
       "       [ 1.52044299,  0.95298263],\n",
       "       [ 0.78957802,  0.72400572],\n",
       "       [ 0.93945123,  1.09507068],\n",
       "       [ 1.2560687 ,  1.06576923],\n",
       "       [ 0.83419144,  0.18380686],\n",
       "       [ 1.30955704,  0.50371311],\n",
       "       [ 0.91932681,  1.59620217],\n",
       "       [ 1.12536828,  0.59319188],\n",
       "       [ 1.35181182,  0.86592893],\n",
       "       [ 0.75872026,  1.62230524],\n",
       "       [ 1.33843006,  2.59375134],\n",
       "       [ 0.45971762,  1.00511465],\n",
       "       [ 1.21891484,  1.66389381],\n",
       "       [ 0.87442748,  1.79655531],\n",
       "       [ 1.08540885,  0.64537305],\n",
       "       [ 0.9334877 ,  0.99132153],\n",
       "       [ 0.94945354,  0.71798019]])"
      ]
     },
     "execution_count": 9,
     "metadata": {},
     "output_type": "execute_result"
    }
   ],
   "source": [
    "# 选择红色点簇\n",
    "X_red = X[(res_bool)]\n",
    "X_red"
   ]
  },
  {
   "cell_type": "code",
   "execution_count": 10,
   "metadata": {},
   "outputs": [
    {
     "data": {
      "text/plain": [
       "array([[-1.38880971, -0.52568309],\n",
       "       [-1.66107376, -0.11387086],\n",
       "       [-1.1737295 , -0.66492992],\n",
       "       [-1.521725  , -1.50497094],\n",
       "       [-0.77913181, -0.43556157],\n",
       "       [-1.91903388, -1.46938432],\n",
       "       [-1.10092026, -0.47731436],\n",
       "       [-1.06813338, -0.3663759 ],\n",
       "       [-0.63556208, -0.01578263],\n",
       "       [-1.273894  , -1.33970914],\n",
       "       [-2.25311516, -0.92651975]])"
      ]
     },
     "execution_count": 10,
     "metadata": {},
     "output_type": "execute_result"
    }
   ],
   "source": [
    "# 选取蓝色点簇 ~否运算\n",
    "X_blue = X[(~res_bool)]\n",
    "X_blue"
   ]
  },
  {
   "cell_type": "code",
   "execution_count": 11,
   "metadata": {},
   "outputs": [
    {
     "data": {
      "text/plain": [
       "[<matplotlib.lines.Line2D at 0x7fa37ae94d00>]"
      ]
     },
     "execution_count": 11,
     "metadata": {},
     "output_type": "execute_result"
    },
    {
     "data": {
      "image/png": "[encoded data removed]",
      "text/plain": [
       "<Figure size 432x288 with 1 Axes>"
      ]
     },
     "metadata": {
      "needs_background": "light"
     },
     "output_type": "display_data"
    }
   ],
   "source": [
    "plt.plot(X_red[:,0],X_red[:,1],'o',c='lightcoral')\n",
    "plt.plot(center[0,0], center[0,1], 'o', c='red')\n",
    "plt.plot(X_blue[:,0], X_blue[:,1], 'o', c='c')\n",
    "plt.plot(center[1,0], center[1,1], 'o', c='cyan')"
   ]
  },
  {
   "cell_type": "code",
   "execution_count": 12,
   "metadata": {},
   "outputs": [
    {
     "data": {
      "text/plain": [
       "(array([0.48257302, 0.40526208]), array([-1.3431935 , -0.71273659]))"
      ]
     },
     "execution_count": 12,
     "metadata": {},
     "output_type": "execute_result"
    }
   ],
   "source": [
    "# 重新计算中心点（以划分簇的质心）\n",
    "X_red.mean(0),X_blue.mean(0)"
   ]
  },
  {
   "cell_type": "code",
   "execution_count": 13,
   "metadata": {},
   "outputs": [
    {
     "data": {
      "text/plain": [
       "array([[ 0.48257302,  0.40526208],\n",
       "       [-1.3431935 , -0.71273659]])"
      ]
     },
     "execution_count": 13,
     "metadata": {},
     "output_type": "execute_result"
    }
   ],
   "source": [
    "center = np.array([X_red.mean(0),X_blue.mean(0)])\n",
    "center"
   ]
  },
  {
   "cell_type": "code",
   "execution_count": 14,
   "metadata": {},
   "outputs": [
    {
     "data": {
      "text/plain": [
       "[<matplotlib.lines.Line2D at 0x7fa37afc91f0>]"
      ]
     },
     "execution_count": 14,
     "metadata": {},
     "output_type": "execute_result"
    },
    {
     "data": {
      "image/png": "[encoded data removed]",
      "text/plain": [
       "<Figure size 432x288 with 1 Axes>"
      ]
     },
     "metadata": {
      "needs_background": "light"
     },
     "output_type": "display_data"
    }
   ],
   "source": [
    "plt.plot(X_red[:,0],X_red[:,1],'o',c='lightcoral')\n",
    "plt.plot(center[0,0], center[0,1], 'o', c='red')\n",
    "plt.plot(X_blue[:,0], X_blue[:,1], 'o', c='c')\n",
    "plt.plot(center[1,0], center[1,1], 'o', c='cyan')"
   ]
  },
  {
   "cell_type": "code",
   "execution_count": 15,
   "metadata": {},
   "outputs": [],
   "source": [
    "# 第二次迭代"
   ]
  },
  {
   "cell_type": "code",
   "execution_count": 16,
   "metadata": {},
   "outputs": [],
   "source": [
    "# 距离计算结果\n",
    "res_bool = np.power((X - center[0]),2).sum(1) < np.power((X - center[1]),2).sum(1)\n",
    "res = res_bool*1"
   ]
  },
  {
   "cell_type": "code",
   "execution_count": 17,
   "metadata": {},
   "outputs": [],
   "source": [
    "# 新的簇的划分\n",
    "X_red = X[(res_bool)]\n",
    "X_blue = X[(~res_bool)]"
   ]
  },
  {
   "cell_type": "code",
   "execution_count": 18,
   "metadata": {},
   "outputs": [
    {
     "data": {
      "text/plain": [
       "[<matplotlib.lines.Line2D at 0x7fa37b023640>]"
      ]
     },
     "execution_count": 18,
     "metadata": {},
     "output_type": "execute_result"
    },
    {
     "data": {
      "image/png": "[encoded data removed]",
      "text/plain": [
       "<Figure size 432x288 with 1 Axes>"
      ]
     },
     "metadata": {
      "needs_background": "light"
     },
     "output_type": "display_data"
    }
   ],
   "source": [
    "# 展示划分结果\n",
    "plt.plot(X_red[:,0],X_red[:,1],'o',c='lightcoral')\n",
    "plt.plot(center[0,0], center[0,1], 'o', c='red')\n",
    "plt.plot(X_blue[:,0], X_blue[:,1], 'o', c='c')\n",
    "plt.plot(center[1,0], center[1,1], 'o', c='cyan')"
   ]
  },
  {
   "cell_type": "code",
   "execution_count": 19,
   "metadata": {},
   "outputs": [
    {
     "data": {
      "text/plain": [
       "[<matplotlib.lines.Line2D at 0x7fa37b14ee20>]"
      ]
     },
     "execution_count": 19,
     "metadata": {},
     "output_type": "execute_result"
    },
    {
     "data": {
      "image/png": "[encoded data removed]",
      "text/plain": [
       "<Figure size 432x288 with 1 Axes>"
      ]
     },
     "metadata": {
      "needs_background": "light"
     },
     "output_type": "display_data"
    }
   ],
   "source": [
    "center = np.array([X_red.mean(0),X_blue.mean(0)])\n",
    "plt.plot(X_red[:,0],X_red[:,1],'o',c='lightcoral')\n",
    "plt.plot(center[0,0], center[0,1], 'o', c='red')\n",
    "plt.plot(X_blue[:,0], X_blue[:,1], 'o', c='c')\n",
    "plt.plot(center[1,0], center[1,1], 'o', c='cyan')"
   ]
  },
  {
   "cell_type": "code",
   "execution_count": 20,
   "metadata": {},
   "outputs": [],
   "source": [
    "# 第三轮迭代"
   ]
  },
  {
   "cell_type": "code",
   "execution_count": 21,
   "metadata": {},
   "outputs": [],
   "source": [
    "# 距离计算结果\n",
    "res_bool = np.power((X - center[0]),2).sum(1) < np.power((X - center[1]),2).sum(1)\n",
    "res = res_bool*1"
   ]
  },
  {
   "cell_type": "code",
   "execution_count": 22,
   "metadata": {},
   "outputs": [],
   "source": [
    "# 新的簇的划分\n",
    "X_red = X[(res_bool)]\n",
    "X_blue = X[(~res_bool)]"
   ]
  },
  {
   "cell_type": "code",
   "execution_count": 23,
   "metadata": {},
   "outputs": [
    {
     "data": {
      "text/plain": [
       "[<matplotlib.lines.Line2D at 0x7fa37b1abd30>]"
      ]
     },
     "execution_count": 23,
     "metadata": {},
     "output_type": "execute_result"
    },
    {
     "data": {
      "image/png": "[encoded data removed]",
      "text/plain": [
       "<Figure size 432x288 with 1 Axes>"
      ]
     },
     "metadata": {
      "needs_background": "light"
     },
     "output_type": "display_data"
    }
   ],
   "source": [
    "# 展示划分结果\n",
    "plt.plot(X_red[:,0],X_red[:,1],'o',c='lightcoral')\n",
    "plt.plot(center[0,0], center[0,1], 'o', c='red')\n",
    "plt.plot(X_blue[:,0], X_blue[:,1], 'o', c='c')\n",
    "plt.plot(center[1,0], center[1,1], 'o', c='cyan')"
   ]
  },
  {
   "cell_type": "code",
   "execution_count": 24,
   "metadata": {},
   "outputs": [],
   "source": [
    "# 分类结果没变，达到模型收敛条件"
   ]
  },
  {
   "cell_type": "markdown",
   "metadata": {},
   "source": [
    "# K-Means快速聚类的背后的数学意义\n",
    "\n",
    "在给定簇的个数 K 的情况下，找到一个最优的划分情况，使得组内误差平方和尽可能的小。\n",
    "\n",
    "\n",
    "组内误差平方和：每个点到当前簇的中心点的距离的平方和\n",
    "（预测值和真实值的距离）\n",
    "\n",
    "$SSE = \\sum_{i=1}^K \\sum_{x\\in{C_i}}{(c_i - x)^2}$\n",
    "\n",
    "中心点、质心 也叫 `原型`，通过原型代表一个簇中的点"
   ]
  },
  {
   "cell_type": "code",
   "execution_count": 25,
   "metadata": {},
   "outputs": [
    {
     "data": {
      "text/plain": [
       "66.26098649489376"
      ]
     },
     "execution_count": 25,
     "metadata": {},
     "output_type": "execute_result"
    }
   ],
   "source": [
    "# 第一轮SSE\n",
    "# 确定中心点\n",
    "np.random.seed(23)\n",
    "center = np.random.randn(2,2)\n",
    "\n",
    "# 计算距离\n",
    "res_bool = np.power((X - center[0]),2).sum(1) < np.power((X - center[1]),2).sum(1)\n",
    "res = res_bool*1\n",
    "\n",
    "# 划分数据集\n",
    "X_red = X[(res_bool)]\n",
    "X_blue = X[(~res_bool)]\n",
    "\n",
    "# 计算SSE\n",
    "np.power((X_red - center[0]), 2).sum()"
   ]
  },
  {
   "cell_type": "code",
   "execution_count": 26,
   "metadata": {},
   "outputs": [
    {
     "data": {
      "text/plain": [
       "23.256673490142994"
      ]
     },
     "execution_count": 26,
     "metadata": {},
     "output_type": "execute_result"
    }
   ],
   "source": [
    "# 第二轮SSE\n",
    "# 确定中心点\n",
    "center = np.array([X_red.mean(0), X_blue.mean(0)])\n",
    "\n",
    "# 计算距离\n",
    "res_bool = np.power((X - center[0]),2).sum(1) < np.power((X - center[1]),2).sum(1)\n",
    "res = res_bool*1\n",
    "\n",
    "# 划分数据集\n",
    "X_red = X[(res_bool)]\n",
    "X_blue = X[(~res_bool)]\n",
    "\n",
    "# 计算SSE\n",
    "np.power((X_red - center[0]), 2).sum()"
   ]
  },
  {
   "cell_type": "code",
   "execution_count": 27,
   "metadata": {},
   "outputs": [
    {
     "data": {
      "text/plain": [
       "6.961875790042418"
      ]
     },
     "execution_count": 27,
     "metadata": {},
     "output_type": "execute_result"
    }
   ],
   "source": [
    "# 第三轮SSE\n",
    "# 确定中心点\n",
    "center = np.array([X_red.mean(0), X_blue.mean(0)])\n",
    "\n",
    "# 计算距离\n",
    "res_bool = np.power((X - center[0]),2).sum(1) < np.power((X - center[1]),2).sum(1)\n",
    "res = res_bool*1\n",
    "\n",
    "# 划分数据集\n",
    "X_red = X[(res_bool)]\n",
    "X_blue = X[(~res_bool)]\n",
    "\n",
    "# 计算SSE\n",
    "np.power((X_red - center[0]), 2).sum()"
   ]
  },
  {
   "cell_type": "markdown",
   "metadata": {},
   "source": [
    "# K-Means快速聚类的sklearn的实现方法"
   ]
  },
  {
   "cell_type": "code",
   "execution_count": 28,
   "metadata": {},
   "outputs": [],
   "source": [
    "from sklearn.cluster import KMeans"
   ]
  },
  {
   "cell_type": "code",
   "execution_count": 29,
   "metadata": {},
   "outputs": [
    {
     "data": {
      "text/plain": [
       "\u001b[0;31mInit signature:\u001b[0m\n",
       "\u001b[0mKMeans\u001b[0m\u001b[0;34m(\u001b[0m\u001b[0;34m\u001b[0m\n",
       "\u001b[0;34m\u001b[0m    \u001b[0mn_clusters\u001b[0m\u001b[0;34m=\u001b[0m\u001b[0;36m8\u001b[0m\u001b[0;34m,\u001b[0m\u001b[0;34m\u001b[0m\n",
       "\u001b[0;34m\u001b[0m    \u001b[0;34m*\u001b[0m\u001b[0;34m,\u001b[0m\u001b[0;34m\u001b[0m\n",
       "\u001b[0;34m\u001b[0m    \u001b[0minit\u001b[0m\u001b[0;34m=\u001b[0m\u001b[0;34m'k-means++'\u001b[0m\u001b[0;34m,\u001b[0m\u001b[0;34m\u001b[0m\n",
       "\u001b[0;34m\u001b[0m    \u001b[0mn_init\u001b[0m\u001b[0;34m=\u001b[0m\u001b[0;36m10\u001b[0m\u001b[0;34m,\u001b[0m\u001b[0;34m\u001b[0m\n",
       "\u001b[0;34m\u001b[0m    \u001b[0mmax_iter\u001b[0m\u001b[0;34m=\u001b[0m\u001b[0;36m300\u001b[0m\u001b[0;34m,\u001b[0m\u001b[0;34m\u001b[0m\n",
       "\u001b[0;34m\u001b[0m    \u001b[0mtol\u001b[0m\u001b[0;34m=\u001b[0m\u001b[0;36m0.0001\u001b[0m\u001b[0;34m,\u001b[0m\u001b[0;34m\u001b[0m\n",
       "\u001b[0;34m\u001b[0m    \u001b[0mprecompute_distances\u001b[0m\u001b[0;34m=\u001b[0m\u001b[0;34m'deprecated'\u001b[0m\u001b[0;34m,\u001b[0m\u001b[0;34m\u001b[0m\n",
       "\u001b[0;34m\u001b[0m    \u001b[0mverbose\u001b[0m\u001b[0;34m=\u001b[0m\u001b[0;36m0\u001b[0m\u001b[0;34m,\u001b[0m\u001b[0;34m\u001b[0m\n",
       "\u001b[0;34m\u001b[0m    \u001b[0mrandom_state\u001b[0m\u001b[0;34m=\u001b[0m\u001b[0;32mNone\u001b[0m\u001b[0;34m,\u001b[0m\u001b[0;34m\u001b[0m\n",
       "\u001b[0;34m\u001b[0m    \u001b[0mcopy_x\u001b[0m\u001b[0;34m=\u001b[0m\u001b[0;32mTrue\u001b[0m\u001b[0;34m,\u001b[0m\u001b[0;34m\u001b[0m\n",
       "\u001b[0;34m\u001b[0m    \u001b[0mn_jobs\u001b[0m\u001b[0;34m=\u001b[0m\u001b[0;34m'deprecated'\u001b[0m\u001b[0;34m,\u001b[0m\u001b[0;34m\u001b[0m\n",
       "\u001b[0;34m\u001b[0m    \u001b[0malgorithm\u001b[0m\u001b[0;34m=\u001b[0m\u001b[0;34m'auto'\u001b[0m\u001b[0;34m,\u001b[0m\u001b[0;34m\u001b[0m\n",
       "\u001b[0;34m\u001b[0m\u001b[0;34m)\u001b[0m\u001b[0;34m\u001b[0m\u001b[0;34m\u001b[0m\u001b[0m\n",
       "\u001b[0;31mDocstring:\u001b[0m     \n",
       "K-Means clustering.\n",
       "\n",
       "Read more in the :ref:`User Guide <k_means>`.\n",
       "\n",
       "Parameters\n",
       "----------\n",
       "\n",
       "n_clusters : int, default=8\n",
       "    The number of clusters to form as well as the number of\n",
       "    centroids to generate.\n",
       "\n",
       "init : {'k-means++', 'random', ndarray, callable}, default='k-means++'\n",
       "    Method for initialization:\n",
       "\n",
       "    'k-means++' : selects initial cluster centers for k-mean\n",
       "    clustering in a smart way to speed up convergence. See section\n",
       "    Notes in k_init for more details.\n",
       "\n",
       "    'random': choose `n_clusters` observations (rows) at random from data\n",
       "    for the initial centroids.\n",
       "\n",
       "    If an ndarray is passed, it should be of shape (n_clusters, n_features)\n",
       "    and gives the initial centers.\n",
       "\n",
       "    If a callable is passed, it should take arguments X, n_clusters and a\n",
       "    random state and return an initialization.\n",
       "\n",
       "n_init : int, default=10\n",
       "    Number of time the k-means algorithm will be run with different\n",
       "    centroid seeds. The final results will be the best output of\n",
       "    n_init consecutive runs in terms of inertia.\n",
       "\n",
       "max_iter : int, default=300\n",
       "    Maximum number of iterations of the k-means algorithm for a\n",
       "    single run.\n",
       "\n",
       "tol : float, default=1e-4\n",
       "    Relative tolerance with regards to Frobenius norm of the difference\n",
       "    in the cluster centers of two consecutive iterations to declare\n",
       "    convergence.\n",
       "    It's not advised to set `tol=0` since convergence might never be\n",
       "    declared due to rounding errors. Use a very small number instead.\n",
       "\n",
       "precompute_distances : {'auto', True, False}, default='auto'\n",
       "    Precompute distances (faster but takes more memory).\n",
       "\n",
       "    'auto' : do not precompute distances if n_samples * n_clusters > 12\n",
       "    million. This corresponds to about 100MB overhead per job using\n",
       "    double precision.\n",
       "\n",
       "    True : always precompute distances.\n",
       "\n",
       "    False : never precompute distances.\n",
       "\n",
       "    .. deprecated:: 0.23\n",
       "        'precompute_distances' was deprecated in version 0.22 and will be\n",
       "        removed in 0.25. It has no effect.\n",
       "\n",
       "verbose : int, default=0\n",
       "    Verbosity mode.\n",
       "\n",
       "random_state : int, RandomState instance, default=None\n",
       "    Determines random number generation for centroid initialization. Use\n",
       "    an int to make the randomness deterministic.\n",
       "    See :term:`Glossary <random_state>`.\n",
       "\n",
       "copy_x : bool, default=True\n",
       "    When pre-computing distances it is more numerically accurate to center\n",
       "    the data first. If copy_x is True (default), then the original data is\n",
       "    not modified. If False, the original data is modified, and put back\n",
       "    before the function returns, but small numerical differences may be\n",
       "    introduced by subtracting and then adding the data mean. Note that if\n",
       "    the original data is not C-contiguous, a copy will be made even if\n",
       "    copy_x is False. If the original data is sparse, but not in CSR format,\n",
       "    a copy will be made even if copy_x is False.\n",
       "\n",
       "n_jobs : int, default=None\n",
       "    The number of OpenMP threads to use for the computation. Parallelism is\n",
       "    sample-wise on the main cython loop which assigns each sample to its\n",
       "    closest center.\n",
       "\n",
       "    ``None`` or ``-1`` means using all processors.\n",
       "\n",
       "    .. deprecated:: 0.23\n",
       "        ``n_jobs`` was deprecated in version 0.23 and will be removed in\n",
       "        0.25.\n",
       "\n",
       "algorithm : {\"auto\", \"full\", \"elkan\"}, default=\"auto\"\n",
       "    K-means algorithm to use. The classical EM-style algorithm is \"full\".\n",
       "    The \"elkan\" variation is more efficient on data with well-defined\n",
       "    clusters, by using the triangle inequality. However it's more memory\n",
       "    intensive due to the allocation of an extra array of shape\n",
       "    (n_samples, n_clusters).\n",
       "\n",
       "    For now \"auto\" (kept for backward compatibiliy) chooses \"elkan\" but it\n",
       "    might change in the future for a better heuristic.\n",
       "\n",
       "    .. versionchanged:: 0.18\n",
       "        Added Elkan algorithm\n",
       "\n",
       "Attributes\n",
       "----------\n",
       "cluster_centers_ : ndarray of shape (n_clusters, n_features)\n",
       "    Coordinates of cluster centers. If the algorithm stops before fully\n",
       "    converging (see ``tol`` and ``max_iter``), these will not be\n",
       "    consistent with ``labels_``.\n",
       "\n",
       "labels_ : ndarray of shape (n_samples,)\n",
       "    Labels of each point\n",
       "\n",
       "inertia_ : float\n",
       "    Sum of squared distances of samples to their closest cluster center.\n",
       "\n",
       "n_iter_ : int\n",
       "    Number of iterations run.\n",
       "\n",
       "See also\n",
       "--------\n",
       "\n",
       "MiniBatchKMeans\n",
       "    Alternative online implementation that does incremental updates\n",
       "    of the centers positions using mini-batches.\n",
       "    For large scale learning (say n_samples > 10k) MiniBatchKMeans is\n",
       "    probably much faster than the default batch implementation.\n",
       "\n",
       "Notes\n",
       "-----\n",
       "The k-means problem is solved using either Lloyd's or Elkan's algorithm.\n",
       "\n",
       "The average complexity is given by O(k n T), were n is the number of\n",
       "samples and T is the number of iteration.\n",
       "\n",
       "The worst case complexity is given by O(n^(k+2/p)) with\n",
       "n = n_samples, p = n_features. (D. Arthur and S. Vassilvitskii,\n",
       "'How slow is the k-means method?' SoCG2006)\n",
       "\n",
       "In practice, the k-means algorithm is very fast (one of the fastest\n",
       "clustering algorithms available), but it falls in local minima. That's why\n",
       "it can be useful to restart it several times.\n",
       "\n",
       "If the algorithm stops before fully converging (because of ``tol`` or\n",
       "``max_iter``), ``labels_`` and ``cluster_centers_`` will not be consistent,\n",
       "i.e. the ``cluster_centers_`` will not be the means of the points in each\n",
       "cluster. Also, the estimator will reassign ``labels_`` after the last\n",
       "iteration to make ``labels_`` consistent with ``predict`` on the training\n",
       "set.\n",
       "\n",
       "Examples\n",
       "--------\n",
       "\n",
       ">>> from sklearn.cluster import KMeans\n",
       ">>> import numpy as np\n",
       ">>> X = np.array([[1, 2], [1, 4], [1, 0],\n",
       "...               [10, 2], [10, 4], [10, 0]])\n",
       ">>> kmeans = KMeans(n_clusters=2, random_state=0).fit(X)\n",
       ">>> kmeans.labels_\n",
       "array([1, 1, 1, 0, 0, 0], dtype=int32)\n",
       ">>> kmeans.predict([[0, 0], [12, 3]])\n",
       "array([1, 0], dtype=int32)\n",
       ">>> kmeans.cluster_centers_\n",
       "array([[10.,  2.],\n",
       "       [ 1.,  2.]])\n",
       "\u001b[0;31mFile:\u001b[0m           ~/anaconda3/lib/python3.8/site-packages/sklearn/cluster/_kmeans.py\n",
       "\u001b[0;31mType:\u001b[0m           type\n",
       "\u001b[0;31mSubclasses:\u001b[0m     MiniBatchKMeans\n"
      ]
     },
     "metadata": {},
     "output_type": "display_data"
    }
   ],
   "source": [
    "KMeans?"
   ]
  },
  {
   "cell_type": "markdown",
   "metadata": {},
   "source": [
    "K-Means 在面对复杂数据集时，可能会陷入：\n",
    "- 局部最小值陷阱\n",
    "\n",
    "    有更好的划分数据集的方法（SSE更小），但根据收敛条件无法达到\n",
    "- 震荡收敛\n",
    "\n",
    "    算法会在两种不同的划分方法中来回震荡"
   ]
  },
  {
   "cell_type": "code",
   "execution_count": 30,
   "metadata": {},
   "outputs": [
    {
     "data": {
      "text/plain": [
       "KMeans(n_clusters=2)"
      ]
     },
     "execution_count": 30,
     "metadata": {},
     "output_type": "execute_result"
    }
   ],
   "source": [
    "km = KMeans(n_clusters=2)\n",
    "km.fit(X)"
   ]
  },
  {
   "cell_type": "code",
   "execution_count": 31,
   "metadata": {},
   "outputs": [
    {
     "data": {
      "text/plain": [
       "array([[ 1.04228586,  1.11340149],\n",
       "       [-1.08131141, -0.91777659]])"
      ]
     },
     "execution_count": 31,
     "metadata": {},
     "output_type": "execute_result"
    }
   ],
   "source": [
    "# 查看中心点\n",
    "km.cluster_centers_"
   ]
  },
  {
   "cell_type": "code",
   "execution_count": 32,
   "metadata": {},
   "outputs": [
    {
     "data": {
      "text/plain": [
       "array([1, 1, 1, 1, 1, 1, 1, 1, 1, 1, 1, 1, 1, 1, 1, 1, 1, 1, 1, 1, 0, 0,\n",
       "       0, 0, 0, 0, 0, 0, 0, 0, 0, 0, 0, 0, 0, 0, 0, 0, 0, 0], dtype=int32)"
      ]
     },
     "execution_count": 32,
     "metadata": {},
     "output_type": "execute_result"
    }
   ],
   "source": [
    "# 查看每条数据属于哪一类\n",
    "km.labels_"
   ]
  },
  {
   "cell_type": "code",
   "execution_count": 33,
   "metadata": {},
   "outputs": [
    {
     "data": {
      "text/plain": [
       "[<matplotlib.lines.Line2D at 0x7fa37c51f430>]"
      ]
     },
     "execution_count": 33,
     "metadata": {},
     "output_type": "execute_result"
    },
    {
     "data": {
      "image/png": "[encoded data removed]",
      "text/plain": [
       "<Figure size 432x288 with 1 Axes>"
      ]
     },
     "metadata": {
      "needs_background": "light"
     },
     "output_type": "display_data"
    }
   ],
   "source": [
    "# 借助图像进行验证\n",
    "plt.scatter(X[:,0],X[:,1],c=km.labels_)\n",
    "plt.plot(km.cluster_centers_[0,0],km.cluster_centers_[0,1],'o',c='red')\n",
    "plt.plot(km.cluster_centers_[1,0],km.cluster_centers_[1,1],'o',c='cyan')"
   ]
  },
  {
   "cell_type": "code",
   "execution_count": 34,
   "metadata": {},
   "outputs": [
    {
     "data": {
      "text/plain": [
       "16.352095518854334"
      ]
     },
     "execution_count": 34,
     "metadata": {},
     "output_type": "execute_result"
    }
   ],
   "source": [
    "# 收敛时SSE\n",
    "km.inertia_"
   ]
  },
  {
   "cell_type": "code",
   "execution_count": 35,
   "metadata": {},
   "outputs": [
    {
     "data": {
      "text/plain": [
       "2"
      ]
     },
     "execution_count": 35,
     "metadata": {},
     "output_type": "execute_result"
    }
   ],
   "source": [
    "# 迭代次数\n",
    "km.n_iter_"
   ]
  },
  {
   "cell_type": "code",
   "execution_count": 36,
   "metadata": {},
   "outputs": [
    {
     "data": {
      "text/plain": [
       "array([1, 1], dtype=int32)"
      ]
     },
     "execution_count": 36,
     "metadata": {},
     "output_type": "execute_result"
    }
   ],
   "source": [
    "# K-Means评估器也支持predict方法\n",
    "X_new = np.random.randn(2,2)\n",
    "km.predict(X_new)"
   ]
  },
  {
   "cell_type": "code",
   "execution_count": 37,
   "metadata": {},
   "outputs": [
    {
     "data": {
      "image/png": "[encoded data removed]",
      "text/plain": [
       "<Figure size 432x288 with 1 Axes>"
      ]
     },
     "metadata": {
      "needs_background": "light"
     },
     "output_type": "display_data"
    }
   ],
   "source": [
    "def plot_decision_boundary(X, y, model):\n",
    "    \"\"\"\n",
    "    决策边界绘制函数\n",
    "    \"\"\"\n",
    "    \n",
    "    # 以两个特征的极值+1/-1作为边界，并在其中添加1000个点\n",
    "    x1, x2 = np.meshgrid(np.linspace(X[:, 0].min()-1, X[:, 0].max()+1, 1000).reshape(-1,1),\n",
    "                         np.linspace(X[:, 1].min()-1, X[:, 1].max()+1, 1000).reshape(-1,1))\n",
    "    \n",
    "    # 将所有点的横纵坐标转化成二维数组\n",
    "    X_temp = np.concatenate([x1.reshape(-1, 1), x2.reshape(-1, 1)], 1)\n",
    "    \n",
    "    # 对所有点进行模型类别预测\n",
    "    yhat_temp = model.predict(X_temp)\n",
    "    yhat = yhat_temp.reshape(x1.shape)\n",
    "    \n",
    "    # 绘制决策边界图像\n",
    "    from matplotlib.colors import ListedColormap\n",
    "    custom_cmap = ListedColormap(['#EF9A9A','#90CAF9'])\n",
    "    plt.contourf(x1, x2, yhat, cmap=custom_cmap)\n",
    "    plt.scatter(X[(y == 0).flatten(), 0], X[(y == 0).flatten(), 1], color='red')\n",
    "    plt.scatter(X[(y == 1).flatten(), 0], X[(y == 1).flatten(), 1], color='blue')\n",
    "    \n",
    "plot_decision_boundary(X,km.labels_,km)"
   ]
  },
  {
   "cell_type": "markdown",
   "metadata": {},
   "source": [
    "# 轮廓系数 silhouette coefficient (SC)\n",
    "超参数K的取值参考\n",
    "\n",
    "轮廓系数的计算结果\n",
    "1. 对于第i条数据，计算该对象到所属簇的平均距离，记为ai\n",
    "2. 如果还存在其他簇，计算该对象到这些簇的所有点的平均距离，并在这些距离中找到最小值记为bi\n",
    "3. 则对于i，轮廓系数计算结果为：$s_i = \\frac{b_i - a_i}{max(a_i b_i)}$\n",
    "4. 对于聚类中的所有N条数据，最终轮廓系数为单个si的均值，即$s = mean(s_i)$"
   ]
  },
  {
   "cell_type": "markdown",
   "metadata": {},
   "source": [
    "- 尽管轮廓系数可以在[-1,1]区间内取值，\n",
    "- 但我们并不希望轮廓系数出现负值，此时代表组内的平均距离要大于组外平均距离的最小值，此时说明聚类算法无效。\n",
    "- 我们希望bi > ai，并且希望ai尽可能的小，此时si也就趋近于1\n",
    "- 当轮廓系数趋于0时，说明各簇重叠现象明显\n",
    "\n",
    "\n",
    "轮廓系数取值的大小一定程度上能够给K的取值提供建议，当\n",
    "`轮廓系数比较大`时，往往说明数据在特征空间中本身的分布情况就和聚类的类别数量相同\n",
    "\n",
    "> 和SSE不同，轮廓系数受到K的影响相对较小，这也是轮廓系数相对可靠的原因之一"
   ]
  },
  {
   "cell_type": "code",
   "execution_count": 38,
   "metadata": {},
   "outputs": [],
   "source": [
    "from sklearn.metrics import silhouette_score"
   ]
  },
  {
   "cell_type": "code",
   "execution_count": 39,
   "metadata": {},
   "outputs": [
    {
     "data": {
      "text/plain": [
       "0.7241755028408805"
      ]
     },
     "execution_count": 39,
     "metadata": {},
     "output_type": "execute_result"
    }
   ],
   "source": [
    "silhouette_score(X,km.labels_) # 输入数据和类别"
   ]
  },
  {
   "cell_type": "code",
   "execution_count": 44,
   "metadata": {},
   "outputs": [
    {
     "data": {
      "text/plain": [
       "<matplotlib.collections.PathCollection at 0x7fa37ca44880>"
      ]
     },
     "execution_count": 44,
     "metadata": {},
     "output_type": "execute_result"
    },
    {
     "data": {
      "image/png": "[encoded data removed]",
      "text/plain": [
       "<Figure size 432x288 with 1 Axes>"
      ]
     },
     "metadata": {
      "needs_background": "light"
     },
     "output_type": "display_data"
    }
   ],
   "source": [
    "np.random.seed(23)\n",
    "X,y = arrayGenCla(num_examples=50,num_inputs=2,num_class=3,deg_dispersion=[2,0.5])\n",
    "plt.scatter(X[:,0],X[:,1],c=y)"
   ]
  },
  {
   "cell_type": "code",
   "execution_count": 45,
   "metadata": {},
   "outputs": [],
   "source": [
    "ss = []\n",
    "\n",
    "for i in range(2,12):\n",
    "    km = KMeans(n_clusters=i).fit(X)\n",
    "    ss.append(silhouette_score(X,km.labels_))"
   ]
  },
  {
   "cell_type": "code",
   "execution_count": 46,
   "metadata": {},
   "outputs": [
    {
     "data": {
      "text/plain": [
       "[0.5917969390803755,\n",
       " 0.6753180189915984,\n",
       " 0.580872808406484,\n",
       " 0.47687683047050644,\n",
       " 0.3685113521594095,\n",
       " 0.36538208299620134,\n",
       " 0.36399950542730486,\n",
       " 0.3524637605205039,\n",
       " 0.3579462241667135,\n",
       " 0.3682450219445942]"
      ]
     },
     "execution_count": 46,
     "metadata": {},
     "output_type": "execute_result"
    }
   ],
   "source": [
    "ss"
   ]
  },
  {
   "cell_type": "code",
   "execution_count": 47,
   "metadata": {},
   "outputs": [],
   "source": [
    "# ss[1]的轮廓系数值较大，则K取值为3"
   ]
  },
  {
   "cell_type": "code",
   "execution_count": 48,
   "metadata": {},
   "outputs": [],
   "source": [
    "# 除非特征矩阵在特征空间的“分界”非常明显，才能在轮廓系数上有明显差异。而聚类算法在分类上的性能，其实也远远弱于有监督学习算法"
   ]
  },
  {
   "cell_type": "markdown",
   "metadata": {},
   "source": [
    "# Mini Batch K-Means 与 DBSCAN 密度聚类\n",
    "分别在速度、性能上的互补"
   ]
  },
  {
   "cell_type": "code",
   "execution_count": 50,
   "metadata": {},
   "outputs": [],
   "source": [
    "# 科学计算模块\n",
    "import numpy as np\n",
    "import pandas as pd\n",
    "\n",
    "# 绘图模块\n",
    "import matplotlib as mpl\n",
    "import matplotlib.pyplot as plt\n",
    "\n",
    "# 自定义模块\n",
    "from ML_basic_function import *\n",
    "\n",
    "# K-Means\n",
    "from sklearn.cluster import KMeans"
   ]
  },
  {
   "cell_type": "markdown",
   "metadata": {},
   "source": [
    "# 一、 Mini Batch K-Means\n",
    "\n",
    "在K-Means基础上增加了一个Mini Batch的抽样过程，并且每轮迭代中心点时，不再带入全部数据、而是带入抽样的Mini Batch进行计算。即每一轮的迭代操作更新为：\n",
    "1. 从数据集中随机抽取一些数据形成小批量，把他们分配给最近的质心\n",
    "2. 根据小批量数据划分情况，更新质心\n",
    "\n",
    "牺牲 `精度` 换取 `效率`\n",
    "\n",
    "MiniBatchKMeans 和 K- Means 在参数设置上的差异：\n",
    "1. 迭代收敛条件： MiniBatchKMeans不用‘tol’，而是主要通过`max_no_improvement`和`max_iter`\n",
    "2. 控制结果精度： 通过`reassignment_ratio`"
   ]
  },
  {
   "cell_type": "code",
   "execution_count": 51,
   "metadata": {},
   "outputs": [],
   "source": [
    "from sklearn.cluster import MiniBatchKMeans"
   ]
  },
  {
   "cell_type": "code",
   "execution_count": 52,
   "metadata": {},
   "outputs": [
    {
     "data": {
      "text/plain": [
       "\u001b[0;31mInit signature:\u001b[0m\n",
       "\u001b[0mMiniBatchKMeans\u001b[0m\u001b[0;34m(\u001b[0m\u001b[0;34m\u001b[0m\n",
       "\u001b[0;34m\u001b[0m    \u001b[0mn_clusters\u001b[0m\u001b[0;34m=\u001b[0m\u001b[0;36m8\u001b[0m\u001b[0;34m,\u001b[0m\u001b[0;34m\u001b[0m\n",
       "\u001b[0;34m\u001b[0m    \u001b[0;34m*\u001b[0m\u001b[0;34m,\u001b[0m\u001b[0;34m\u001b[0m\n",
       "\u001b[0;34m\u001b[0m    \u001b[0minit\u001b[0m\u001b[0;34m=\u001b[0m\u001b[0;34m'k-means++'\u001b[0m\u001b[0;34m,\u001b[0m\u001b[0;34m\u001b[0m\n",
       "\u001b[0;34m\u001b[0m    \u001b[0mmax_iter\u001b[0m\u001b[0;34m=\u001b[0m\u001b[0;36m100\u001b[0m\u001b[0;34m,\u001b[0m\u001b[0;34m\u001b[0m\n",
       "\u001b[0;34m\u001b[0m    \u001b[0mbatch_size\u001b[0m\u001b[0;34m=\u001b[0m\u001b[0;36m100\u001b[0m\u001b[0;34m,\u001b[0m\u001b[0;34m\u001b[0m\n",
       "\u001b[0;34m\u001b[0m    \u001b[0mverbose\u001b[0m\u001b[0;34m=\u001b[0m\u001b[0;36m0\u001b[0m\u001b[0;34m,\u001b[0m\u001b[0;34m\u001b[0m\n",
       "\u001b[0;34m\u001b[0m    \u001b[0mcompute_labels\u001b[0m\u001b[0;34m=\u001b[0m\u001b[0;32mTrue\u001b[0m\u001b[0;34m,\u001b[0m\u001b[0;34m\u001b[0m\n",
       "\u001b[0;34m\u001b[0m    \u001b[0mrandom_state\u001b[0m\u001b[0;34m=\u001b[0m\u001b[0;32mNone\u001b[0m\u001b[0;34m,\u001b[0m\u001b[0;34m\u001b[0m\n",
       "\u001b[0;34m\u001b[0m    \u001b[0mtol\u001b[0m\u001b[0;34m=\u001b[0m\u001b[0;36m0.0\u001b[0m\u001b[0;34m,\u001b[0m\u001b[0;34m\u001b[0m\n",
       "\u001b[0;34m\u001b[0m    \u001b[0mmax_no_improvement\u001b[0m\u001b[0;34m=\u001b[0m\u001b[0;36m10\u001b[0m\u001b[0;34m,\u001b[0m\u001b[0;34m\u001b[0m\n",
       "\u001b[0;34m\u001b[0m    \u001b[0minit_size\u001b[0m\u001b[0;34m=\u001b[0m\u001b[0;32mNone\u001b[0m\u001b[0;34m,\u001b[0m\u001b[0;34m\u001b[0m\n",
       "\u001b[0;34m\u001b[0m    \u001b[0mn_init\u001b[0m\u001b[0;34m=\u001b[0m\u001b[0;36m3\u001b[0m\u001b[0;34m,\u001b[0m\u001b[0;34m\u001b[0m\n",
       "\u001b[0;34m\u001b[0m    \u001b[0mreassignment_ratio\u001b[0m\u001b[0;34m=\u001b[0m\u001b[0;36m0.01\u001b[0m\u001b[0;34m,\u001b[0m\u001b[0;34m\u001b[0m\n",
       "\u001b[0;34m\u001b[0m\u001b[0;34m)\u001b[0m\u001b[0;34m\u001b[0m\u001b[0;34m\u001b[0m\u001b[0m\n",
       "\u001b[0;31mDocstring:\u001b[0m     \n",
       "Mini-Batch K-Means clustering.\n",
       "\n",
       "Read more in the :ref:`User Guide <mini_batch_kmeans>`.\n",
       "\n",
       "Parameters\n",
       "----------\n",
       "\n",
       "n_clusters : int, default=8\n",
       "    The number of clusters to form as well as the number of\n",
       "    centroids to generate.\n",
       "\n",
       "init : {'k-means++', 'random'} or ndarray of shape             (n_clusters, n_features), default='k-means++'\n",
       "    Method for initialization\n",
       "\n",
       "    'k-means++' : selects initial cluster centers for k-mean\n",
       "    clustering in a smart way to speed up convergence. See section\n",
       "    Notes in k_init for more details.\n",
       "\n",
       "    'random': choose k observations (rows) at random from data for\n",
       "    the initial centroids.\n",
       "\n",
       "    If an ndarray is passed, it should be of shape (n_clusters, n_features)\n",
       "    and gives the initial centers.\n",
       "\n",
       "max_iter : int, default=100\n",
       "    Maximum number of iterations over the complete dataset before\n",
       "    stopping independently of any early stopping criterion heuristics.\n",
       "\n",
       "batch_size : int, default=100\n",
       "    Size of the mini batches.\n",
       "\n",
       "verbose : int, default=0\n",
       "    Verbosity mode.\n",
       "\n",
       "compute_labels : bool, default=True\n",
       "    Compute label assignment and inertia for the complete dataset\n",
       "    once the minibatch optimization has converged in fit.\n",
       "\n",
       "random_state : int, RandomState instance, default=None\n",
       "    Determines random number generation for centroid initialization and\n",
       "    random reassignment. Use an int to make the randomness deterministic.\n",
       "    See :term:`Glossary <random_state>`.\n",
       "\n",
       "tol : float, default=0.0\n",
       "    Control early stopping based on the relative center changes as\n",
       "    measured by a smoothed, variance-normalized of the mean center\n",
       "    squared position changes. This early stopping heuristics is\n",
       "    closer to the one used for the batch variant of the algorithms\n",
       "    but induces a slight computational and memory overhead over the\n",
       "    inertia heuristic.\n",
       "\n",
       "    To disable convergence detection based on normalized center\n",
       "    change, set tol to 0.0 (default).\n",
       "\n",
       "max_no_improvement : int, default=10\n",
       "    Control early stopping based on the consecutive number of mini\n",
       "    batches that does not yield an improvement on the smoothed inertia.\n",
       "\n",
       "    To disable convergence detection based on inertia, set\n",
       "    max_no_improvement to None.\n",
       "\n",
       "init_size : int, default=None\n",
       "    Number of samples to randomly sample for speeding up the\n",
       "    initialization (sometimes at the expense of accuracy): the\n",
       "    only algorithm is initialized by running a batch KMeans on a\n",
       "    random subset of the data. This needs to be larger than n_clusters.\n",
       "\n",
       "    If `None`, `init_size= 3 * batch_size`.\n",
       "\n",
       "n_init : int, default=3\n",
       "    Number of random initializations that are tried.\n",
       "    In contrast to KMeans, the algorithm is only run once, using the\n",
       "    best of the ``n_init`` initializations as measured by inertia.\n",
       "\n",
       "reassignment_ratio : float, default=0.01\n",
       "    Control the fraction of the maximum number of counts for a\n",
       "    center to be reassigned. A higher value means that low count\n",
       "    centers are more easily reassigned, which means that the\n",
       "    model will take longer to converge, but should converge in a\n",
       "    better clustering.\n",
       "\n",
       "Attributes\n",
       "----------\n",
       "\n",
       "cluster_centers_ : ndarray of shape (n_clusters, n_features)\n",
       "    Coordinates of cluster centers\n",
       "\n",
       "labels_ : int\n",
       "    Labels of each point (if compute_labels is set to True).\n",
       "\n",
       "inertia_ : float\n",
       "    The value of the inertia criterion associated with the chosen\n",
       "    partition (if compute_labels is set to True). The inertia is\n",
       "    defined as the sum of square distances of samples to their nearest\n",
       "    neighbor.\n",
       "\n",
       "See Also\n",
       "--------\n",
       "KMeans\n",
       "    The classic implementation of the clustering method based on the\n",
       "    Lloyd's algorithm. It consumes the whole set of input data at each\n",
       "    iteration.\n",
       "\n",
       "Notes\n",
       "-----\n",
       "See https://www.eecs.tufts.edu/~dsculley/papers/fastkmeans.pdf\n",
       "\n",
       "Examples\n",
       "--------\n",
       ">>> from sklearn.cluster import MiniBatchKMeans\n",
       ">>> import numpy as np\n",
       ">>> X = np.array([[1, 2], [1, 4], [1, 0],\n",
       "...               [4, 2], [4, 0], [4, 4],\n",
       "...               [4, 5], [0, 1], [2, 2],\n",
       "...               [3, 2], [5, 5], [1, -1]])\n",
       ">>> # manually fit on batches\n",
       ">>> kmeans = MiniBatchKMeans(n_clusters=2,\n",
       "...                          random_state=0,\n",
       "...                          batch_size=6)\n",
       ">>> kmeans = kmeans.partial_fit(X[0:6,:])\n",
       ">>> kmeans = kmeans.partial_fit(X[6:12,:])\n",
       ">>> kmeans.cluster_centers_\n",
       "array([[2. , 1. ],\n",
       "       [3.5, 4.5]])\n",
       ">>> kmeans.predict([[0, 0], [4, 4]])\n",
       "array([0, 1], dtype=int32)\n",
       ">>> # fit on the whole data\n",
       ">>> kmeans = MiniBatchKMeans(n_clusters=2,\n",
       "...                          random_state=0,\n",
       "...                          batch_size=6,\n",
       "...                          max_iter=10).fit(X)\n",
       ">>> kmeans.cluster_centers_\n",
       "array([[3.95918367, 2.40816327],\n",
       "       [1.12195122, 1.3902439 ]])\n",
       ">>> kmeans.predict([[0, 0], [4, 4]])\n",
       "array([1, 0], dtype=int32)\n",
       "\u001b[0;31mFile:\u001b[0m           ~/anaconda3/lib/python3.8/site-packages/sklearn/cluster/_kmeans.py\n",
       "\u001b[0;31mType:\u001b[0m           type\n",
       "\u001b[0;31mSubclasses:\u001b[0m     \n"
      ]
     },
     "metadata": {},
     "output_type": "display_data"
    }
   ],
   "source": [
    "MiniBatchKMeans?"
   ]
  },
  {
   "cell_type": "code",
   "execution_count": 54,
   "metadata": {},
   "outputs": [],
   "source": [
    "mbk = MiniBatchKMeans(n_clusters=2)"
   ]
  },
  {
   "cell_type": "code",
   "execution_count": 55,
   "metadata": {},
   "outputs": [],
   "source": [
    "np.random.seed(23)\n",
    "X,y = arrayGenCla(num_examples = 20,num_inputs=2,num_class=2,deg_dispersion=[2,0.5])"
   ]
  },
  {
   "cell_type": "code",
   "execution_count": 56,
   "metadata": {},
   "outputs": [
    {
     "data": {
      "text/plain": [
       "<matplotlib.collections.PathCollection at 0x7fa3785a2820>"
      ]
     },
     "execution_count": 56,
     "metadata": {},
     "output_type": "execute_result"
    },
    {
     "data": {
      "image/png": "[encoded data removed]",
      "text/plain": [
       "<Figure size 432x288 with 1 Axes>"
      ]
     },
     "metadata": {
      "needs_background": "light"
     },
     "output_type": "display_data"
    }
   ],
   "source": [
    "plt.scatter(X[:,0],X[:,1],c=y)"
   ]
  },
  {
   "cell_type": "code",
   "execution_count": 57,
   "metadata": {},
   "outputs": [
    {
     "data": {
      "text/plain": [
       "MiniBatchKMeans(n_clusters=2)"
      ]
     },
     "execution_count": 57,
     "metadata": {},
     "output_type": "execute_result"
    }
   ],
   "source": [
    "mbk.fit(X)"
   ]
  },
  {
   "cell_type": "code",
   "execution_count": 58,
   "metadata": {},
   "outputs": [
    {
     "data": {
      "text/plain": [
       "[<matplotlib.lines.Line2D at 0x7fa37cbca040>]"
      ]
     },
     "execution_count": 58,
     "metadata": {},
     "output_type": "execute_result"
    },
    {
     "data": {
      "image/png": "[encoded data removed]",
      "text/plain": [
       "<Figure size 432x288 with 1 Axes>"
      ]
     },
     "metadata": {
      "needs_background": "light"
     },
     "output_type": "display_data"
    }
   ],
   "source": [
    "# 观察聚类结果\n",
    "plt.scatter(X[:,0],X[:,1],c=mbk.labels_)\n",
    "plt.plot(mbk.cluster_centers_[0,0],mbk.cluster_centers_[0,1],'o',c='red')\n",
    "plt.plot(mbk.cluster_centers_[1,0],mbk.cluster_centers_[1,1],'o',c='cyan')"
   ]
  },
  {
   "cell_type": "code",
   "execution_count": 59,
   "metadata": {},
   "outputs": [],
   "source": [
    "np.random.seed(23)\n",
    "X,y = arrayGenCla(num_examples = 1000000,num_inputs=10,num_class=5,deg_dispersion=[4,1])"
   ]
  },
  {
   "cell_type": "code",
   "execution_count": 60,
   "metadata": {},
   "outputs": [],
   "source": [
    "km = KMeans(n_clusters=5,max_iter=1000)\n",
    "mbk = MiniBatchKMeans(n_clusters=5,max_iter=1000)"
   ]
  },
  {
   "cell_type": "code",
   "execution_count": 61,
   "metadata": {},
   "outputs": [],
   "source": [
    "# 导入时间模块\n",
    "import time"
   ]
  },
  {
   "cell_type": "code",
   "execution_count": 62,
   "metadata": {},
   "outputs": [
    {
     "data": {
      "text/plain": [
       "37.74519324302673"
      ]
     },
     "execution_count": 62,
     "metadata": {},
     "output_type": "execute_result"
    }
   ],
   "source": [
    "# K-Means聚类用时\n",
    "t0 = time.time()\n",
    "km.fit(X)\n",
    "t_batch = time.time() - t0\n",
    "t_batch"
   ]
  },
  {
   "cell_type": "code",
   "execution_count": 63,
   "metadata": {},
   "outputs": [
    {
     "data": {
      "text/plain": [
       "23.10051202774048"
      ]
     },
     "execution_count": 63,
     "metadata": {},
     "output_type": "execute_result"
    }
   ],
   "source": [
    "# MiniBatchKMeans聚类用时\n",
    "t0 = time.time()\n",
    "mbk.fit(X)\n",
    "t_batch = time.time() - t0\n",
    "t_batch"
   ]
  },
  {
   "cell_type": "code",
   "execution_count": 64,
   "metadata": {},
   "outputs": [],
   "source": [
    "# 二者 SSE 精度"
   ]
  },
  {
   "cell_type": "code",
   "execution_count": 65,
   "metadata": {},
   "outputs": [
    {
     "data": {
      "text/plain": [
       "49994316.22276671"
      ]
     },
     "execution_count": 65,
     "metadata": {},
     "output_type": "execute_result"
    }
   ],
   "source": [
    "km.inertia_"
   ]
  },
  {
   "cell_type": "code",
   "execution_count": 66,
   "metadata": {},
   "outputs": [
    {
     "data": {
      "text/plain": [
       "50166895.159873486"
      ]
     },
     "execution_count": 66,
     "metadata": {},
     "output_type": "execute_result"
    }
   ],
   "source": [
    "mbk.inertia_"
   ]
  },
  {
   "cell_type": "code",
   "execution_count": 67,
   "metadata": {},
   "outputs": [],
   "source": [
    "# MiniBatchKMeans 精度低于 KMeans,但整体结果相差不大，基本可以忽略不计"
   ]
  },
  {
   "cell_type": "markdown",
   "metadata": {},
   "source": [
    "如果希望进一步提高迭代速度，可以适当减少 batch_size、reassignment_ratio、max_no_improvement 这三个参数，代价是聚类的精度可能会进一步降低，而如果希望提高精度，则可以提升 reassignment_ratio 参数，不过相应的，运行时间会有所增加。"
   ]
  },
  {
   "cell_type": "markdown",
   "metadata": {},
   "source": [
    "# 二、DBSCAN\n",
    "MiniBatchKMeans 和 K-Means 聚类都假设簇的边界是`凸型`的。\n",
    "对于非规则类边界，则无法进行较好的聚类"
   ]
  },
  {
   "cell_type": "code",
   "execution_count": 80,
   "metadata": {},
   "outputs": [],
   "source": [
    "from sklearn.datasets import make_moons"
   ]
  },
  {
   "cell_type": "code",
   "execution_count": 81,
   "metadata": {},
   "outputs": [
    {
     "data": {
      "text/plain": [
       "<matplotlib.collections.PathCollection at 0x7fa2e58c1760>"
      ]
     },
     "execution_count": 81,
     "metadata": {},
     "output_type": "execute_result"
    },
    {
     "data": {
      "image/png": "[encoded data removed]",
      "text/plain": [
       "<Figure size 432x288 with 1 Axes>"
      ]
     },
     "metadata": {
      "needs_background": "light"
     },
     "output_type": "display_data"
    }
   ],
   "source": [
    "X,y = make_moons(200,noise=0.05,random_state=24)\n",
    "plt.scatter(X[:,0],X[:,1],c=y)"
   ]
  },
  {
   "cell_type": "markdown",
   "metadata": {},
   "source": [
    "KMeans 聚类认为：更接近同一中心点的数据属于同一个簇，而上图显然例外"
   ]
  },
  {
   "cell_type": "code",
   "execution_count": 82,
   "metadata": {},
   "outputs": [
    {
     "data": {
      "text/plain": [
       "KMeans(n_clusters=2)"
      ]
     },
     "execution_count": 82,
     "metadata": {},
     "output_type": "execute_result"
    }
   ],
   "source": [
    "km = KMeans(n_clusters=2)\n",
    "km.fit(X)"
   ]
  },
  {
   "cell_type": "code",
   "execution_count": 83,
   "metadata": {},
   "outputs": [
    {
     "data": {
      "text/plain": [
       "[<matplotlib.lines.Line2D at 0x7fa2e3fd9f70>]"
      ]
     },
     "execution_count": 83,
     "metadata": {},
     "output_type": "execute_result"
    },
    {
     "data": {
      "image/png": "[encoded data removed]",
      "text/plain": [
       "<Figure size 432x288 with 1 Axes>"
      ]
     },
     "metadata": {
      "needs_background": "light"
     },
     "output_type": "display_data"
    }
   ],
   "source": [
    "plt.scatter(X[:,0],X[:,1],c=km.labels_)\n",
    "plt.plot(km.cluster_centers_[:,0],km.cluster_centers_[:,1],'ro')"
   ]
  },
  {
   "cell_type": "markdown",
   "metadata": {},
   "source": [
    "DBSCAN 基本原理：\n",
    "对一个点：以该点为中心画圆，半径为 eps,圆内的数据量为 num_samples。eps 越小，num_samples 越大，则该点所在区域密度越高"
   ]
  },
  {
   "cell_type": "markdown",
   "metadata": {},
   "source": [
    "根据密度将数据点分为：`核心点`和`边界点`和`噪声点`\n",
    "\n",
    "将临近的（联通、圆相交，1个eps内）核心点划为一个簇，将边界点划归到邻近的核心点所在簇，抛弃噪声点"
   ]
  },
  {
   "cell_type": "code",
   "execution_count": 84,
   "metadata": {},
   "outputs": [],
   "source": [
    "from sklearn.cluster import DBSCAN"
   ]
  },
  {
   "cell_type": "code",
   "execution_count": 85,
   "metadata": {},
   "outputs": [
    {
     "data": {
      "text/plain": [
       "\u001b[0;31mInit signature:\u001b[0m\n",
       "\u001b[0mDBSCAN\u001b[0m\u001b[0;34m(\u001b[0m\u001b[0;34m\u001b[0m\n",
       "\u001b[0;34m\u001b[0m    \u001b[0meps\u001b[0m\u001b[0;34m=\u001b[0m\u001b[0;36m0.5\u001b[0m\u001b[0;34m,\u001b[0m\u001b[0;34m\u001b[0m\n",
       "\u001b[0;34m\u001b[0m    \u001b[0;34m*\u001b[0m\u001b[0;34m,\u001b[0m\u001b[0;34m\u001b[0m\n",
       "\u001b[0;34m\u001b[0m    \u001b[0mmin_samples\u001b[0m\u001b[0;34m=\u001b[0m\u001b[0;36m5\u001b[0m\u001b[0;34m,\u001b[0m\u001b[0;34m\u001b[0m\n",
       "\u001b[0;34m\u001b[0m    \u001b[0mmetric\u001b[0m\u001b[0;34m=\u001b[0m\u001b[0;34m'euclidean'\u001b[0m\u001b[0;34m,\u001b[0m\u001b[0;34m\u001b[0m\n",
       "\u001b[0;34m\u001b[0m    \u001b[0mmetric_params\u001b[0m\u001b[0;34m=\u001b[0m\u001b[0;32mNone\u001b[0m\u001b[0;34m,\u001b[0m\u001b[0;34m\u001b[0m\n",
       "\u001b[0;34m\u001b[0m    \u001b[0malgorithm\u001b[0m\u001b[0;34m=\u001b[0m\u001b[0;34m'auto'\u001b[0m\u001b[0;34m,\u001b[0m\u001b[0;34m\u001b[0m\n",
       "\u001b[0;34m\u001b[0m    \u001b[0mleaf_size\u001b[0m\u001b[0;34m=\u001b[0m\u001b[0;36m30\u001b[0m\u001b[0;34m,\u001b[0m\u001b[0;34m\u001b[0m\n",
       "\u001b[0;34m\u001b[0m    \u001b[0mp\u001b[0m\u001b[0;34m=\u001b[0m\u001b[0;32mNone\u001b[0m\u001b[0;34m,\u001b[0m\u001b[0;34m\u001b[0m\n",
       "\u001b[0;34m\u001b[0m    \u001b[0mn_jobs\u001b[0m\u001b[0;34m=\u001b[0m\u001b[0;32mNone\u001b[0m\u001b[0;34m,\u001b[0m\u001b[0;34m\u001b[0m\n",
       "\u001b[0;34m\u001b[0m\u001b[0;34m)\u001b[0m\u001b[0;34m\u001b[0m\u001b[0;34m\u001b[0m\u001b[0m\n",
       "\u001b[0;31mDocstring:\u001b[0m     \n",
       "Perform DBSCAN clustering from vector array or distance matrix.\n",
       "\n",
       "DBSCAN - Density-Based Spatial Clustering of Applications with Noise.\n",
       "Finds core samples of high density and expands clusters from them.\n",
       "Good for data which contains clusters of similar density.\n",
       "\n",
       "Read more in the :ref:`User Guide <dbscan>`.\n",
       "\n",
       "Parameters\n",
       "----------\n",
       "eps : float, default=0.5\n",
       "    The maximum distance between two samples for one to be considered\n",
       "    as in the neighborhood of the other. This is not a maximum bound\n",
       "    on the distances of points within a cluster. This is the most\n",
       "    important DBSCAN parameter to choose appropriately for your data set\n",
       "    and distance function.\n",
       "\n",
       "min_samples : int, default=5\n",
       "    The number of samples (or total weight) in a neighborhood for a point\n",
       "    to be considered as a core point. This includes the point itself.\n",
       "\n",
       "metric : string, or callable, default='euclidean'\n",
       "    The metric to use when calculating distance between instances in a\n",
       "    feature array. If metric is a string or callable, it must be one of\n",
       "    the options allowed by :func:`sklearn.metrics.pairwise_distances` for\n",
       "    its metric parameter.\n",
       "    If metric is \"precomputed\", X is assumed to be a distance matrix and\n",
       "    must be square. X may be a :term:`Glossary <sparse graph>`, in which\n",
       "    case only \"nonzero\" elements may be considered neighbors for DBSCAN.\n",
       "\n",
       "    .. versionadded:: 0.17\n",
       "       metric *precomputed* to accept precomputed sparse matrix.\n",
       "\n",
       "metric_params : dict, default=None\n",
       "    Additional keyword arguments for the metric function.\n",
       "\n",
       "    .. versionadded:: 0.19\n",
       "\n",
       "algorithm : {'auto', 'ball_tree', 'kd_tree', 'brute'}, default='auto'\n",
       "    The algorithm to be used by the NearestNeighbors module\n",
       "    to compute pointwise distances and find nearest neighbors.\n",
       "    See NearestNeighbors module documentation for details.\n",
       "\n",
       "leaf_size : int, default=30\n",
       "    Leaf size passed to BallTree or cKDTree. This can affect the speed\n",
       "    of the construction and query, as well as the memory required\n",
       "    to store the tree. The optimal value depends\n",
       "    on the nature of the problem.\n",
       "\n",
       "p : float, default=None\n",
       "    The power of the Minkowski metric to be used to calculate distance\n",
       "    between points.\n",
       "\n",
       "n_jobs : int, default=None\n",
       "    The number of parallel jobs to run.\n",
       "    ``None`` means 1 unless in a :obj:`joblib.parallel_backend` context.\n",
       "    ``-1`` means using all processors. See :term:`Glossary <n_jobs>`\n",
       "    for more details.\n",
       "\n",
       "Attributes\n",
       "----------\n",
       "core_sample_indices_ : ndarray of shape (n_core_samples,)\n",
       "    Indices of core samples.\n",
       "\n",
       "components_ : ndarray of shape (n_core_samples, n_features)\n",
       "    Copy of each core sample found by training.\n",
       "\n",
       "labels_ : ndarray of shape (n_samples)\n",
       "    Cluster labels for each point in the dataset given to fit().\n",
       "    Noisy samples are given the label -1.\n",
       "\n",
       "Examples\n",
       "--------\n",
       ">>> from sklearn.cluster import DBSCAN\n",
       ">>> import numpy as np\n",
       ">>> X = np.array([[1, 2], [2, 2], [2, 3],\n",
       "...               [8, 7], [8, 8], [25, 80]])\n",
       ">>> clustering = DBSCAN(eps=3, min_samples=2).fit(X)\n",
       ">>> clustering.labels_\n",
       "array([ 0,  0,  0,  1,  1, -1])\n",
       ">>> clustering\n",
       "DBSCAN(eps=3, min_samples=2)\n",
       "\n",
       "See also\n",
       "--------\n",
       "OPTICS\n",
       "    A similar clustering at multiple values of eps. Our implementation\n",
       "    is optimized for memory usage.\n",
       "\n",
       "Notes\n",
       "-----\n",
       "For an example, see :ref:`examples/cluster/plot_dbscan.py\n",
       "<sphx_glr_auto_examples_cluster_plot_dbscan.py>`.\n",
       "\n",
       "This implementation bulk-computes all neighborhood queries, which increases\n",
       "the memory complexity to O(n.d) where d is the average number of neighbors,\n",
       "while original DBSCAN had memory complexity O(n). It may attract a higher\n",
       "memory complexity when querying these nearest neighborhoods, depending\n",
       "on the ``algorithm``.\n",
       "\n",
       "One way to avoid the query complexity is to pre-compute sparse\n",
       "neighborhoods in chunks using\n",
       ":func:`NearestNeighbors.radius_neighbors_graph\n",
       "<sklearn.neighbors.NearestNeighbors.radius_neighbors_graph>` with\n",
       "``mode='distance'``, then using ``metric='precomputed'`` here.\n",
       "\n",
       "Another way to reduce memory and computation time is to remove\n",
       "(near-)duplicate points and use ``sample_weight`` instead.\n",
       "\n",
       ":class:`cluster.OPTICS` provides a similar clustering with lower memory\n",
       "usage.\n",
       "\n",
       "References\n",
       "----------\n",
       "Ester, M., H. P. Kriegel, J. Sander, and X. Xu, \"A Density-Based\n",
       "Algorithm for Discovering Clusters in Large Spatial Databases with Noise\".\n",
       "In: Proceedings of the 2nd International Conference on Knowledge Discovery\n",
       "and Data Mining, Portland, OR, AAAI Press, pp. 226-231. 1996\n",
       "\n",
       "Schubert, E., Sander, J., Ester, M., Kriegel, H. P., & Xu, X. (2017).\n",
       "DBSCAN revisited, revisited: why and how you should (still) use DBSCAN.\n",
       "ACM Transactions on Database Systems (TODS), 42(3), 19.\n",
       "\u001b[0;31mFile:\u001b[0m           ~/anaconda3/lib/python3.8/site-packages/sklearn/cluster/_dbscan.py\n",
       "\u001b[0;31mType:\u001b[0m           type\n",
       "\u001b[0;31mSubclasses:\u001b[0m     \n"
      ]
     },
     "metadata": {},
     "output_type": "display_data"
    }
   ],
   "source": [
    "DBSCAN?"
   ]
  },
  {
   "cell_type": "code",
   "execution_count": 86,
   "metadata": {},
   "outputs": [],
   "source": [
    "# 实例化模型\n",
    "DB = DBSCAN(eps=0.3,min_samples=10)"
   ]
  },
  {
   "cell_type": "code",
   "execution_count": 87,
   "metadata": {},
   "outputs": [
    {
     "data": {
      "text/plain": [
       "DBSCAN(eps=0.3, min_samples=10)"
      ]
     },
     "execution_count": 87,
     "metadata": {},
     "output_type": "execute_result"
    }
   ],
   "source": [
    "# 训练模型\n",
    "DB.fit(X)"
   ]
  },
  {
   "cell_type": "code",
   "execution_count": 88,
   "metadata": {},
   "outputs": [
    {
     "data": {
      "text/plain": [
       "<matplotlib.collections.PathCollection at 0x7fa2e4299a30>"
      ]
     },
     "execution_count": 88,
     "metadata": {},
     "output_type": "execute_result"
    },
    {
     "data": {
      "image/png": "[encoded data removed]",
      "text/plain": [
       "<Figure size 432x288 with 1 Axes>"
      ]
     },
     "metadata": {
      "needs_background": "light"
     },
     "output_type": "display_data"
    }
   ],
   "source": [
    "# 查看聚类结果\n",
    "plt.scatter(X[:,0],X[:,1],c=DB.labels_)"
   ]
  },
  {
   "cell_type": "code",
   "execution_count": 89,
   "metadata": {},
   "outputs": [
    {
     "data": {
      "text/plain": [
       "<matplotlib.collections.PathCollection at 0x7fa2e4233f40>"
      ]
     },
     "execution_count": 89,
     "metadata": {},
     "output_type": "execute_result"
    },
    {
     "data": {
      "image/png": "[encoded data removed]",
      "text/plain": [
       "<Figure size 432x288 with 1 Axes>"
      ]
     },
     "metadata": {
      "needs_background": "light"
     },
     "output_type": "display_data"
    }
   ],
   "source": [
    "np.random.seed(23)\n",
    "X,y = arrayGenCla(num_examples = 20,num_inputs=2,num_class=2,deg_dispersion=[2,0.5])\n",
    "plt.scatter(X[:,0],X[:,1],c=y)"
   ]
  },
  {
   "cell_type": "code",
   "execution_count": 90,
   "metadata": {},
   "outputs": [
    {
     "data": {
      "text/plain": [
       "<matplotlib.collections.PathCollection at 0x7fa2e4421280>"
      ]
     },
     "execution_count": 90,
     "metadata": {},
     "output_type": "execute_result"
    },
    {
     "data": {
      "image/png": "[encoded data removed]",
      "text/plain": [
       "<Figure size 432x288 with 1 Axes>"
      ]
     },
     "metadata": {
      "needs_background": "light"
     },
     "output_type": "display_data"
    }
   ],
   "source": [
    "DB = DBSCAN(eps=0.5,min_samples=5).fit(X)\n",
    "plt.scatter(X[:,0],X[:,1],c=DB.labels_)\n",
    "# 紫色为噪声点 -1"
   ]
  },
  {
   "cell_type": "code",
   "execution_count": 91,
   "metadata": {},
   "outputs": [
    {
     "data": {
      "text/plain": [
       "array([ 0,  0,  0,  0,  0,  0,  0,  0,  0, -1,  0,  0,  0,  0,  0,  0,  0,\n",
       "        0, -1,  0,  1,  1,  1,  1,  1,  1,  1, -1,  1,  1,  1,  1,  1, -1,\n",
       "        1,  1,  1,  1,  1,  1])"
      ]
     },
     "execution_count": 91,
     "metadata": {},
     "output_type": "execute_result"
    }
   ],
   "source": [
    "DB.labels_"
   ]
  },
  {
   "cell_type": "code",
   "execution_count": 92,
   "metadata": {},
   "outputs": [],
   "source": [
    "# 调整参数，噪声点变动"
   ]
  },
  {
   "cell_type": "code",
   "execution_count": 93,
   "metadata": {},
   "outputs": [
    {
     "data": {
      "text/plain": [
       "<matplotlib.collections.PathCollection at 0x7fa2e458c820>"
      ]
     },
     "execution_count": 93,
     "metadata": {},
     "output_type": "execute_result"
    },
    {
     "data": {
      "image/png": "[encoded data removed]",
      "text/plain": [
       "<Figure size 432x288 with 1 Axes>"
      ]
     },
     "metadata": {
      "needs_background": "light"
     },
     "output_type": "display_data"
    }
   ],
   "source": [
    "DB = DBSCAN(eps=0.4,min_samples=6).fit(X)\n",
    "plt.scatter(X[:,0],X[:,1],c=DB.labels_)\n",
    "# 紫色为噪声点 -1"
   ]
  },
  {
   "cell_type": "code",
   "execution_count": 94,
   "metadata": {},
   "outputs": [
    {
     "data": {
      "text/plain": [
       "<matplotlib.collections.PathCollection at 0x7fa2e4520f70>"
      ]
     },
     "execution_count": 94,
     "metadata": {},
     "output_type": "execute_result"
    },
    {
     "data": {
      "image/png": "[encoded data removed]",
      "text/plain": [
       "<Figure size 432x288 with 1 Axes>"
      ]
     },
     "metadata": {
      "needs_background": "light"
     },
     "output_type": "display_data"
    }
   ],
   "source": [
    "DB = DBSCAN(eps=0.6,min_samples=4).fit(X)\n",
    "plt.scatter(X[:,0],X[:,1],c=DB.labels_)\n",
    "# 紫色为噪声点 -1"
   ]
  },
  {
   "cell_type": "code",
   "execution_count": null,
   "metadata": {},
   "outputs": [],
   "source": []
  }
 ],
 "metadata": {
  "kernelspec": {
   "display_name": "Python 3",
   "language": "python",
   "name": "python3"
  },
  "language_info": {
   "codemirror_mode": {
    "name": "ipython",
    "version": 3
   },
   "file_extension": ".py",
   "mimetype": "text/x-python",
   "name": "python",
   "nbconvert_exporter": "python",
   "pygments_lexer": "ipython3",
   "version": "3.8.3"
  }
 },
 "nbformat": 4,
 "nbformat_minor": 4
}
